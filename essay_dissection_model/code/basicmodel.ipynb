{
 "cells": [
  {
   "cell_type": "code",
   "execution_count": 1,
   "metadata": {},
   "outputs": [],
   "source": [
    "import pandas as pd\n",
    "\n",
    "import torch\n",
    "from torch import nn\n",
    "from transformers import LongformerForTokenClassification, LongformerTokenizer, AutoModel\n",
    "\n",
    "\n",
    "from torch.utils.data import Dataset,DataLoader\n",
    "\n",
    "from tqdm import tqdm"
   ]
  },
  {
   "cell_type": "code",
   "execution_count": 2,
   "metadata": {},
   "outputs": [
    {
     "name": "stdout",
     "output_type": "stream",
     "text": [
      "440.12517634987813\n"
     ]
    }
   ],
   "source": [
    "tokenized_df = pd.read_pickle('../data/preprocess_step2.pkl')\n",
    "\n",
    "lens = [len(elem) for elem in tokenized_df['tokens']]\n",
    "avg_len = sum(lens)/len(lens)\n",
    "\n",
    "print(avg_len)"
   ]
  },
  {
   "cell_type": "code",
   "execution_count": 3,
   "metadata": {},
   "outputs": [
    {
     "data": {
      "image/png": "[encoded data removed]",
      "text/plain": [
       "<Figure size 640x480 with 1 Axes>"
      ]
     },
     "metadata": {},
     "output_type": "display_data"
    }
   ],
   "source": [
    "import matplotlib.pyplot as plt\n",
    "plt.hist(lens, bins=10)  # Adjust the number of bins as needed\n",
    "plt.title('Distribution of Length of Tokenized Texts')\n",
    "plt.xlabel('Length')\n",
    "plt.ylabel('Frequency')\n",
    "plt.show()"
   ]
  },
  {
   "cell_type": "code",
   "execution_count": 4,
   "metadata": {},
   "outputs": [
    {
     "name": "stdout",
     "output_type": "stream",
     "text": [
      "Number of token: 200\n",
      "{'Lead', 'Evidence', 'Counterclaim', 'Rebuttal', 'Position', 'O', 'Concluding Statement', 'Claim'}\n"
     ]
    }
   ],
   "source": [
    "tokenized_df_cleaned = tokenized_df[tokenized_df[\"tokens\"].apply(lambda x: len(x)<=200)]\n",
    "\n",
    "longest_list = max(tokenized_df_cleaned['tokens'], key=len)\n",
    "print(\"Number of token:\", len(longest_list))\n",
    "\n",
    "\n",
    "all_labels = [item for sublist in tokenized_df['aligned_tags'] for item in sublist]\n",
    "unique_labels = set(all_labels)  \n",
    "print(unique_labels)"
   ]
  },
  {
   "cell_type": "code",
   "execution_count": 5,
   "metadata": {},
   "outputs": [],
   "source": [
    "# Encoding Text and Labels\n",
    "\n",
    "tokenizer = LongformerTokenizer.from_pretrained('allenai/longformer-base-4096')\n",
    "\n",
    "labels = ['O', 'Claim', 'Evidence', 'Concluding Statement', 'Rebuttal', 'Position','Counterclaim', 'Lead', 'Padding']\n",
    "\n",
    "input_ids = [tokenizer.convert_tokens_to_ids(tokens) for tokens in tokenized_df_cleaned['tokens']]\n",
    "input_labels = [[labels.index(l) for l in tags] for tags in tokenized_df_cleaned['aligned_tags']]\n"
   ]
  },
  {
   "cell_type": "code",
   "execution_count": 6,
   "metadata": {},
   "outputs": [],
   "source": [
    "MAX_LENGTH = len(longest_list) + 5\n",
    "\n",
    "def pad_sequences(sequences, max_len, padding_value=0):\n",
    "    return [seq + [padding_value] * (max_len - len(seq)) if len(seq) < max_len else seq[:max_len] for seq in sequences]\n",
    "\n",
    "padded_input_ids = pad_sequences(input_ids, MAX_LENGTH, padding_value=tokenizer.pad_token_id)\n",
    "\n",
    "padded_input_labels = pad_sequences(input_ids, MAX_LENGTH, padding_value=labels.index('Padding'))\n",
    "\n",
    "attention_masks = [[float(token_id != tokenizer.pad_token_id) for token_id in seq] for seq in padded_input_ids]\n"
   ]
  },
  {
   "cell_type": "code",
   "execution_count": 7,
   "metadata": {},
   "outputs": [],
   "source": [
    "if not torch.backends.mps.is_available():\n",
    "    if not torch.backends.mps.is_built():\n",
    "        print(\"MPS not available because the current PyTorch install was not \"\n",
    "              \"built with MPS enabled.\")\n",
    "    else:\n",
    "        print(\"MPS not available because the current MacOS version is not 12.3+ \"\n",
    "              \"and/or you do not have an MPS-enabled device on this machine.\")\n",
    "    device = torch.device(\"cpu\")\n",
    "\n",
    "else:\n",
    "    device = torch.device(\"mps\")"
   ]
  },
  {
   "cell_type": "code",
   "execution_count": 8,
   "metadata": {},
   "outputs": [],
   "source": [
    "class EssayDataset(Dataset):\n",
    "    def __init__(self, input_ids, attention_masks, labels):\n",
    "        self.input_ids = input_ids\n",
    "        self.attention_masks = attention_masks\n",
    "        self.labels = labels\n",
    "\n",
    "    def __getitem__(self, idx):\n",
    "        return {\n",
    "            'input_ids': torch.tensor(self.input_ids[idx], dtype=torch.long).to(device),\n",
    "            'attention_mask': torch.tensor(self.attention_masks[idx], dtype=torch.long).to(device),\n",
    "            'labels': torch.tensor(self.labels[idx], dtype=torch.long).to(device)\n",
    "        }\n",
    "\n",
    "    def __len__(self):\n",
    "        return len(self.input_ids)\n",
    "    \n",
    "\n",
    "ds = EssayDataset(padded_input_ids[:1000], attention_masks[:1000], padded_input_labels[:1000])"
   ]
  },
  {
   "cell_type": "code",
   "execution_count": 9,
   "metadata": {},
   "outputs": [],
   "source": [
    "batch_size = 2\n",
    "\n",
    "from torch.utils.data import random_split\n",
    "\n",
    "# Define the sizes for train, validation, and test sets\n",
    "total_size = len(ds)\n",
    "train_size = int(0.8 * total_size)\n",
    "val_size = int(0.1 * total_size)\n",
    "test_size = total_size - train_size - val_size\n",
    "\n",
    "# Split the dataset\n",
    "train_ds, val_ds, test_ds = random_split(ds, [train_size, val_size, test_size])\n",
    "\n",
    "# Create data loaders for each set\n",
    "train_loader = DataLoader(train_ds, batch_size=batch_size, shuffle=True)\n",
    "val_loader = DataLoader(val_ds, batch_size=batch_size, shuffle=False) \n",
    "test_loader = DataLoader(test_ds, batch_size=batch_size, shuffle=False)"
   ]
  },
  {
   "cell_type": "code",
   "execution_count": 10,
   "metadata": {},
   "outputs": [],
   "source": [
    "batch_size = 2\n",
    "\n",
    "data_loader = DataLoader(ds, batch_size=batch_size, shuffle=True)"
   ]
  },
  {
   "cell_type": "code",
   "execution_count": 11,
   "metadata": {},
   "outputs": [],
   "source": [
    "num_labels = len(unique_labels)"
   ]
  },
  {
   "cell_type": "code",
   "execution_count": 12,
   "metadata": {},
   "outputs": [
    {
     "name": "stderr",
     "output_type": "stream",
     "text": [
      "Some weights of LongformerForTokenClassification were not initialized from the model checkpoint at allenai/longformer-base-4096 and are newly initialized: ['classifier.bias', 'classifier.weight']\n",
      "You should probably TRAIN this model on a down-stream task to be able to use it for predictions and inference.\n"
     ]
    }
   ],
   "source": [
    "import torch\n",
    "from torch import nn\n",
    "\n",
    "class EssayDisectionModel(nn.Module):\n",
    "    def __init__(self, num_labels=9, hidden_size=768):\n",
    "        super(EssayDisectionModel, self).__init__()\n",
    "        \n",
    "        self.backbone = AutoModel.from_pretrained(\n",
    "        'allenai/longformer-base-4096',\n",
    "        num_labels=num_labels\n",
    "        )\n",
    "        \n",
    "        self.dense1 = nn.Linear(hidden_size, 256)\n",
    "        self.relu = nn.ReLU()\n",
    "        self.dense2 = nn.Linear(256, num_labels)\n",
    "\n",
    "    def forward(self, input_ids, attention_mask):\n",
    "        backbone_output = self.backbone(input_ids=input_ids, attention_mask=attention_mask)\n",
    "        # x = backbone_output.logits.view(-1, self.backbone.config.hidden_size)\n",
    "\n",
    "        print(x)\n",
    "        \n",
    "        x = self.dense1(backbone_output.logits)\n",
    "        x = self.relu(x)\n",
    "        x = self.dense2(x)\n",
    "        \n",
    "        return x\n",
    "\n",
    "# model = EssayDisectionModel()\n",
    "\n",
    "model = LongformerForTokenClassification.from_pretrained('allenai/longformer-base-4096',\n",
    "        num_labels=9)"
   ]
  },
  {
   "cell_type": "code",
   "execution_count": 13,
   "metadata": {},
   "outputs": [],
   "source": [
    "torch.cuda.empty_cache()"
   ]
  },
  {
   "cell_type": "code",
   "execution_count": 14,
   "metadata": {},
   "outputs": [
    {
     "name": "stderr",
     "output_type": "stream",
     "text": [
      "/Users/dhruvchandwani/Library/Python/3.9/lib/python/site-packages/transformers/optimization.py:411: FutureWarning: This implementation of AdamW is deprecated and will be removed in a future version. Use the PyTorch implementation torch.optim.AdamW instead, or set `no_deprecation_warning=True` to disable this warning\n",
      "  warnings.warn(\n",
      "  0%|          | 0/10 [00:00<?, ?it/s]/var/folders/dr/5fwr6gys3_q2mlm3nwj706880000gn/T/ipykernel_13682/1854711717.py:10: DeprecationWarning: an integer is required (got type float).  Implicit conversion to integers using __int__ is deprecated, and may be removed in a future version of Python.\n",
      "  'attention_mask': torch.tensor(self.attention_masks[idx], dtype=torch.long).to(device),\n",
      "100%|██████████| 10/10 [09:56<00:00, 59.63s/it]\n"
     ]
    },
    {
     "ename": "ValueError",
     "evalue": "too many values to unpack (expected 2)",
     "output_type": "error",
     "traceback": [
      "\u001b[0;31m---------------------------------------------------------------------------\u001b[0m",
      "\u001b[0;31mValueError\u001b[0m                                Traceback (most recent call last)",
      "\u001b[1;32m/Users/dhruvchandwani/fall2023/cs505/cs505_final_project/essay_dissection_model/code/basicmodel.ipynb Cell 14\u001b[0m line \u001b[0;36m4\n\u001b[1;32m     <a href='vscode-notebook-cell:/Users/dhruvchandwani/fall2023/cs505/cs505_final_project/essay_dissection_model/code/basicmodel.ipynb#X14sZmlsZQ%3D%3D?line=37'>38</a>\u001b[0m model\u001b[39m.\u001b[39meval()\n\u001b[1;32m     <a href='vscode-notebook-cell:/Users/dhruvchandwani/fall2023/cs505/cs505_final_project/essay_dissection_model/code/basicmodel.ipynb#X14sZmlsZQ%3D%3D?line=38'>39</a>\u001b[0m \u001b[39mwith\u001b[39;00m torch\u001b[39m.\u001b[39mno_grad():\n\u001b[0;32m---> <a href='vscode-notebook-cell:/Users/dhruvchandwani/fall2023/cs505/cs505_final_project/essay_dissection_model/code/basicmodel.ipynb#X14sZmlsZQ%3D%3D?line=39'>40</a>\u001b[0m     \u001b[39mfor\u001b[39;00m inputs, targets \u001b[39min\u001b[39;00m val_loader:\n\u001b[1;32m     <a href='vscode-notebook-cell:/Users/dhruvchandwani/fall2023/cs505/cs505_final_project/essay_dissection_model/code/basicmodel.ipynb#X14sZmlsZQ%3D%3D?line=40'>41</a>\u001b[0m         outputs \u001b[39m=\u001b[39m model(inputs)\n\u001b[1;32m     <a href='vscode-notebook-cell:/Users/dhruvchandwani/fall2023/cs505/cs505_final_project/essay_dissection_model/code/basicmodel.ipynb#X14sZmlsZQ%3D%3D?line=41'>42</a>\u001b[0m         loss \u001b[39m=\u001b[39m loss_fn(outputs\u001b[39m.\u001b[39mlogits\u001b[39m.\u001b[39mview(\u001b[39m-\u001b[39m\u001b[39m1\u001b[39m, outputs\u001b[39m.\u001b[39mlogits\u001b[39m.\u001b[39mshape[\u001b[39m-\u001b[39m\u001b[39m1\u001b[39m]), targets\u001b[39m.\u001b[39mview(\u001b[39m-\u001b[39m\u001b[39m1\u001b[39m))\n",
      "\u001b[0;31mValueError\u001b[0m: too many values to unpack (expected 2)"
     ]
    }
   ],
   "source": [
    "import matplotlib.pyplot as plt\n",
    "from transformers import AdamW\n",
    "\n",
    "loss_fn = nn.CrossEntropyLoss()\n",
    "\n",
    "num_epochs = 10\n",
    "losses = []\n",
    "val_losses = []\n",
    "\n",
    "optimizer = AdamW(model.parameters(), lr=5e-5)\n",
    "\n",
    "model.to(device)\n",
    "\n",
    "model.train()\n",
    "for epoch in tqdm(range(num_epochs)):\n",
    "    for batch in data_loader:\n",
    "\n",
    "        input_seq_batch = batch['input_ids']\n",
    "        target_seq_batch = batch['labels']\n",
    "        attention_mask = batch['attention_mask']\n",
    "    \n",
    "        optimizer.zero_grad()\n",
    "\n",
    "        target_seq_hat = model(input_seq_batch, attention_mask)\n",
    "\n",
    "        target_seq_hat = target_seq_hat.logits.view(-1, target_seq_hat.logits.shape[-1])  # [batch_size * sequence_size, num_labels]\n",
    "        target_seq_batch = target_seq_batch.view(-1)\n",
    "\n",
    "        loss = loss_fn(target_seq_hat, target_seq_batch)\n",
    "\n",
    "        loss.backward()\n",
    "\n",
    "        optimizer.step()\n",
    "        \n",
    "    losses.append(loss.item())\n",
    "\n",
    "\n",
    "model.eval()\n",
    "with torch.no_grad():\n",
    "    for inputs, targets in val_loader:\n",
    "        outputs = model(inputs)\n",
    "        loss = loss_fn(outputs.logits.view(-1, outputs.logits.shape[-1]), targets.view(-1))\n",
    "    val_losses.append(loss.item())\n",
    "    \n",
    "\n",
    "# Plotting the training losses\n",
    "plt.title('Loss')\n",
    "plt.plot(losses)\n",
    "plt.xlabel('Epoch')\n",
    "plt.ylabel('Loss')\n",
    "plt.show()\n",
    "\n",
    "plt.title('Validation Loss')\n",
    "plt.plot(val_losses)\n",
    "plt.xlabel('Epoch')\n",
    "plt.ylabel('Loss')\n",
    "plt.show()\n"
   ]
  },
  {
   "cell_type": "code",
   "execution_count": 16,
   "metadata": {},
   "outputs": [
    {
     "name": "stderr",
     "output_type": "stream",
     "text": [
      "/var/folders/dr/5fwr6gys3_q2mlm3nwj706880000gn/T/ipykernel_13682/1854711717.py:10: DeprecationWarning: an integer is required (got type float).  Implicit conversion to integers using __int__ is deprecated, and may be removed in a future version of Python.\n",
      "  'attention_mask': torch.tensor(self.attention_masks[idx], dtype=torch.long).to(device),\n"
     ]
    },
    {
     "data": {
      "image/png": "[encoded data removed]",
      "text/plain": [
       "<Figure size 640x480 with 1 Axes>"
      ]
     },
     "metadata": {},
     "output_type": "display_data"
    }
   ],
   "source": [
    "model.eval()\n",
    "with torch.no_grad():\n",
    "    for batch in val_loader:\n",
    "\n",
    "        input_seq_batch = batch['input_ids']\n",
    "        target_seq_batch = batch['labels']\n",
    "        attention_mask = batch['attention_mask']\n",
    "\n",
    "        outputs = model(input_seq_batch, attention_mask)\n",
    "\n",
    "        loss = loss_fn(outputs.logits.view(-1, outputs.logits.shape[-1]), target_seq_batch.view(-1))\n",
    "    val_losses.append(loss.item())\n",
    "    \n",
    "plt.title('Validation Loss')\n",
    "plt.plot(val_losses)\n",
    "plt.xlabel('Epoch')\n",
    "plt.ylabel('Loss')\n",
    "plt.show()"
   ]
  },
  {
   "cell_type": "code",
   "execution_count": null,
   "metadata": {},
   "outputs": [],
   "source": [
    "total, correct, predictions = 0,0, []\n",
    "\n",
    "\n",
    "model.eval()\n",
    "with torch.no_grad():\n",
    "    for inputs, targets in test_loader:\n",
    "        outputs = model(inputs)\n",
    "        pred = outputs.argmax(dim=-1)\n",
    "        predictions.append(pred.to(\"cpu\").numpy())\n",
    "        correct += (pred == targets).sum().item()\n",
    "        total += targets.numel()\n",
    "\n",
    "accuracy = correct/total\n",
    "print(accuracy)"
   ]
  }
 ],
 "metadata": {
  "kernelspec": {
   "display_name": "Python 3",
   "language": "python",
   "name": "python3"
  },
  "language_info": {
   "codemirror_mode": {
    "name": "ipython",
    "version": 3
   },
   "file_extension": ".py",
   "mimetype": "text/x-python",
   "name": "python",
   "nbconvert_exporter": "python",
   "pygments_lexer": "ipython3",
   "version": "3.9.6"
  }
 },
 "nbformat": 4,
 "nbformat_minor": 2
}

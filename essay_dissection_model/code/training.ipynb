{
 "cells": [
  {
   "cell_type": "code",
   "execution_count": 1,
   "metadata": {},
   "outputs": [],
   "source": [
    "import pandas as pd\n",
    "\n",
    "import torch\n",
    "from torch import nn\n",
    "from transformers import LongformerForTokenClassification, LongformerTokenizer, AutoModel\n",
    "\n",
    "\n",
    "from torch.utils.data import Dataset,DataLoader\n",
    "\n",
    "from tqdm import tqdm"
   ]
  },
  {
   "cell_type": "code",
   "execution_count": 2,
   "metadata": {},
   "outputs": [
    {
     "name": "stdout",
     "output_type": "stream",
     "text": [
      "457.47390021803255\n"
     ]
    }
   ],
   "source": [
    "tokenized_df = pd.read_pickle('../data/preprocess_step2.pkl')\n",
    "\n",
    "lens = [len(elem) for elem in tokenized_df['tokens']]\n",
    "avg_len = sum(lens)/len(lens)\n",
    "\n",
    "print(avg_len)"
   ]
  },
  {
   "cell_type": "code",
   "execution_count": 3,
   "metadata": {},
   "outputs": [
    {
     "data": {
      "image/png": "[encoded data removed]",
      "text/plain": [
       "<Figure size 640x480 with 1 Axes>"
      ]
     },
     "metadata": {},
     "output_type": "display_data"
    }
   ],
   "source": [
    "import matplotlib.pyplot as plt\n",
    "plt.hist(lens, bins=10)  # Adjust the number of bins as needed\n",
    "plt.title('Distribution of Length of Tokenized Texts')\n",
    "plt.xlabel('Length')\n",
    "plt.ylabel('Frequency')\n",
    "plt.show()"
   ]
  },
  {
   "cell_type": "code",
   "execution_count": 4,
   "metadata": {},
   "outputs": [
    {
     "name": "stdout",
     "output_type": "stream",
     "text": [
      "Number of token: 800\n",
      "{'Counterclaim', 'Claim', 'Rebuttal', 'Position', 'Lead', 'Evidence', 'Concluding Statement'}\n",
      "14421\n"
     ]
    }
   ],
   "source": [
    "tokenized_df_cleaned = tokenized_df[tokenized_df[\"tokens\"].apply(lambda x: len(x)<=800)]\n",
    "\n",
    "longest_list = max(tokenized_df_cleaned['tokens'], key=len)\n",
    "print(\"Number of token:\", len(longest_list))\n",
    "\n",
    "\n",
    "all_labels = [item for sublist in tokenized_df['aligned_tags'] for item in sublist]\n",
    "unique_labels = set(all_labels)  \n",
    "print(unique_labels)\n",
    "print(len(tokenized_df_cleaned))"
   ]
  },
  {
   "cell_type": "code",
   "execution_count": 5,
   "metadata": {},
   "outputs": [],
   "source": [
    "# Encoding Text and Labels\n",
    "\n",
    "tokenizer = LongformerTokenizer.from_pretrained('allenai/longformer-base-4096')\n",
    "\n",
    "labels = ['Claim', 'Evidence', 'Concluding Statement', 'Rebuttal', 'Position','Counterclaim', 'Lead']\n",
    "\n",
    "input_ids = [tokenizer.convert_tokens_to_ids(tokens) for tokens in tokenized_df_cleaned['tokens']]\n",
    "input_labels = [[labels.index(l) for l in tags] for tags in tokenized_df_cleaned['aligned_tags']]\n"
   ]
  },
  {
   "cell_type": "code",
   "execution_count": 6,
   "metadata": {},
   "outputs": [],
   "source": [
    "MAX_LENGTH = len(longest_list)\n",
    "\n",
    "def pad_sequences(sequences, max_len, padding_value=0):\n",
    "    return [seq + [padding_value] * (max_len - len(seq)) if len(seq) < max_len else seq[:max_len] for seq in sequences]\n",
    "\n",
    "padded_input_ids = pad_sequences(input_ids, MAX_LENGTH, padding_value=tokenizer.pad_token_id)\n",
    "\n",
    "padded_input_labels = pad_sequences(input_labels, MAX_LENGTH, padding_value=-100)\n",
    "\n",
    "attention_masks = [[float(token_id != tokenizer.pad_token_id) for token_id in seq] for seq in padded_input_ids]\n"
   ]
  },
  {
   "cell_type": "code",
   "execution_count": 7,
   "metadata": {},
   "outputs": [
    {
     "name": "stdout",
     "output_type": "stream",
     "text": [
      "cuda\n"
     ]
    }
   ],
   "source": [
    "if torch.cuda.is_available():\n",
    "    device = torch.device(\"cuda\")\n",
    "\n",
    "else:\n",
    "    if not torch.backends.mps.is_available():\n",
    "        if not torch.backends.mps.is_built():\n",
    "            print(\"MPS not available because the current PyTorch install was not \"\n",
    "                \"built with MPS enabled.\")      \n",
    "        else:\n",
    "            print(\"MPS not available because the current MacOS version is not 12.3+ \"\n",
    "                \"and/or you do not have an MPS-enabled device on this machine.\")\n",
    "        device = torch.device(\"cpu\")\n",
    "\n",
    "    else:\n",
    "        device = torch.device(\"mps\")\n",
    "\n",
    "print(device)"
   ]
  },
  {
   "cell_type": "code",
   "execution_count": 8,
   "metadata": {},
   "outputs": [],
   "source": [
    "class EssayDataset(Dataset):\n",
    "    def __init__(self, input_ids, attention_masks, labels):\n",
    "        self.input_ids = input_ids\n",
    "        self.attention_masks = attention_masks\n",
    "        self.labels = labels\n",
    "\n",
    "    def __getitem__(self, idx):\n",
    "        return {\n",
    "            'input_ids': torch.tensor(self.input_ids[idx], dtype=torch.long).to(device),\n",
    "            'attention_mask': torch.tensor(self.attention_masks[idx], dtype=torch.long).to(device),\n",
    "            'labels': torch.tensor(self.labels[idx], dtype=torch.long).to(device)\n",
    "        }\n",
    "\n",
    "    def __len__(self):\n",
    "        return len(self.input_ids)\n",
    "    \n",
    "\n",
    "ds = EssayDataset(padded_input_ids, attention_masks, padded_input_labels)"
   ]
  },
  {
   "cell_type": "code",
   "execution_count": 9,
   "metadata": {},
   "outputs": [],
   "source": [
    "batch_size = 16\n",
    "\n",
    "from torch.utils.data import random_split\n",
    "\n",
    "total_size = len(ds)\n",
    "train_size = int(0.8 * total_size)\n",
    "val_size = int(0.1 * total_size)\n",
    "test_size = total_size - train_size - val_size\n",
    "\n",
    "train_ds, val_ds, test_ds = random_split(ds, [train_size, val_size, test_size])\n",
    "\n",
    "train_loader = DataLoader(train_ds, batch_size=batch_size, shuffle=True)\n",
    "val_loader = DataLoader(val_ds, batch_size=batch_size, shuffle=False) \n",
    "test_loader = DataLoader(test_ds, batch_size=batch_size, shuffle=False)"
   ]
  },
  {
   "cell_type": "code",
   "execution_count": 10,
   "metadata": {},
   "outputs": [],
   "source": [
    "num_labels = len(unique_labels)"
   ]
  },
  {
   "cell_type": "code",
   "execution_count": 11,
   "metadata": {},
   "outputs": [],
   "source": [
    "import torch\n",
    "from torch import nn\n",
    "\n",
    "class EssayDisectionModel(nn.Module):\n",
    "    def __init__(self, num_labels=7, dropout_prob=0.3):\n",
    "        super(EssayDisectionModel, self).__init__()\n",
    "        \n",
    "        self.backbone = AutoModel.from_pretrained(\n",
    "        'allenai/longformer-base-4096',\n",
    "       #num_labels=num_labels\n",
    "        )\n",
    "        \n",
    "        self.dense1 = nn.Linear(self.backbone.config.hidden_size, 256)\n",
    "        self.relu = nn.ReLU()\n",
    "        self.dropout = nn.Dropout(dropout_prob)\n",
    "        self.dense2 = nn.Linear(256, num_labels)\n",
    "\n",
    "    def forward(self, input_ids, attention_mask):\n",
    "\n",
    "        backbone_output = self.backbone(input_ids=input_ids, attention_mask=attention_mask)\n",
    "        x = self.dense1(backbone_output[0])\n",
    "        x = self.relu(x)\n",
    "        x = self.dropout(x)\n",
    "        x = self.dense2(x)\n",
    "        \n",
    "        return x\n",
    "\n",
    "model = EssayDisectionModel()"
   ]
  },
  {
   "cell_type": "code",
   "execution_count": 12,
   "metadata": {},
   "outputs": [],
   "source": [
    "torch.cuda.empty_cache()"
   ]
  },
  {
   "cell_type": "code",
   "execution_count": 13,
   "metadata": {},
   "outputs": [
    {
     "name": "stderr",
     "output_type": "stream",
     "text": [
      " 80%|████████  | 8/10 [51:13<12:48, 384.18s/it]"
     ]
    },
    {
     "name": "stdout",
     "output_type": "stream",
     "text": [
      "Early stopping triggered after epoch 9\n"
     ]
    },
    {
     "name": "stderr",
     "output_type": "stream",
     "text": [
      "\n"
     ]
    },
    {
     "data": {
      "image/png": "[encoded data removed]",
      "text/plain": [
       "<Figure size 640x480 with 1 Axes>"
      ]
     },
     "metadata": {},
     "output_type": "display_data"
    },
    {
     "data": {
      "image/png": "[encoded data removed]",
      "text/plain": [
       "<Figure size 640x480 with 1 Axes>"
      ]
     },
     "metadata": {},
     "output_type": "display_data"
    }
   ],
   "source": [
    "import matplotlib.pyplot as plt\n",
    "from torch.optim.lr_scheduler import StepLR\n",
    "\n",
    "num_epochs = 10\n",
    "losses = []\n",
    "val_losses = []\n",
    "\n",
    "device = torch.device(\"cuda:0\" if torch.cuda.is_available() else \"cpu\")\n",
    "model = nn.DataParallel(model, device_ids=[0, 1, 2])\n",
    "model.to(device)\n",
    "\n",
    "optimizer = torch.optim.AdamW(model.parameters(), lr=1e-5)\n",
    "loss_fn = nn.CrossEntropyLoss(ignore_index=-100)\n",
    "scaler = torch.cuda.amp.GradScaler()\n",
    "scheduler = StepLR(optimizer, step_size=2, gamma=0.75)\n",
    "\n",
    "# Early stopping parameters\n",
    "best_val_loss = float('inf')\n",
    "epochs_no_improve = 0\n",
    "patience = 2  # Number of epochs to wait for improvement before stopping the training\n",
    "\n",
    "\n",
    "for epoch in tqdm(range(num_epochs)):\n",
    "    model.train()\n",
    "    total_train_loss = 0\n",
    "    num_batches = 0\n",
    "    for batch in train_loader:\n",
    "\n",
    "        input_seq_batch = batch['input_ids']\n",
    "        target_seq_batch = batch['labels']\n",
    "        attention_mask = batch['attention_mask']\n",
    "    \n",
    "        with torch.cuda.amp.autocast():\n",
    "            target_seq_hat = model(input_seq_batch, attention_mask)\n",
    "            target_seq_hat = target_seq_hat.view(-1, target_seq_hat.shape[-1])\n",
    "            target_seq_batch = target_seq_batch.view(-1)\n",
    "            loss = loss_fn(target_seq_hat, target_seq_batch)\n",
    "\n",
    "        optimizer.zero_grad()\n",
    "        scaler.scale(loss).backward()\n",
    "        scaler.step(optimizer)\n",
    "        scaler.update()\n",
    "\n",
    "        total_train_loss += loss.item()\n",
    "        num_batches += 1\n",
    "    \n",
    "    scaler.step(optimizer)\n",
    "    scaler.update()\n",
    "\n",
    "\n",
    "    average_train_loss = total_train_loss/num_batches\n",
    "    losses.append(average_train_loss)\n",
    "\n",
    "\n",
    "    model.eval()\n",
    "    total_val_loss = 0\n",
    "    num_batches = 0\n",
    "    with torch.no_grad():\n",
    "        for batch in val_loader:\n",
    "\n",
    "            input_seq_batch = batch['input_ids']\n",
    "            target_seq_batch = batch['labels']\n",
    "            attention_mask = batch['attention_mask']\n",
    "\n",
    "            outputs = model(input_seq_batch, attention_mask)\n",
    "\n",
    "            loss = loss_fn(outputs.view(-1, outputs.shape[-1]), target_seq_batch.view(-1))\n",
    "            total_val_loss += loss.item()\n",
    "            num_batches += 1\n",
    "\n",
    "        average_val_loss = total_val_loss / num_batches\n",
    "        val_losses.append(average_val_loss)\n",
    "\n",
    "    if average_val_loss < best_val_loss:\n",
    "        best_val_loss = average_val_loss\n",
    "        epochs_no_improve = 0\n",
    "    else:\n",
    "        epochs_no_improve += 1\n",
    "\n",
    "    if epochs_no_improve >= patience:\n",
    "        print(f'Early stopping triggered after epoch {epoch+1}')\n",
    "        break\n",
    "\n",
    "    #scheduler.step()\n",
    "    \n",
    "\n",
    "# Plotting the training & validation losses\n",
    "\n",
    "plt.title('Loss')\n",
    "plt.plot(losses)\n",
    "plt.xlabel('Epoch')\n",
    "plt.ylabel('Loss')\n",
    "plt.show()\n",
    "\n",
    "plt.title('Validation Loss')\n",
    "plt.plot(val_losses)\n",
    "plt.xlabel('Epoch')\n",
    "plt.ylabel('Loss')\n",
    "plt.show()\n"
   ]
  },
  {
   "cell_type": "code",
   "execution_count": 14,
   "metadata": {},
   "outputs": [
    {
     "name": "stdout",
     "output_type": "stream",
     "text": [
      "current accuracy: 68.1196406865891%\n"
     ]
    }
   ],
   "source": [
    "total, correct, predictions = 0,0, []\n",
    "\n",
    "\n",
    "model.eval()\n",
    "with torch.no_grad():\n",
    "    for batch in test_loader:\n",
    "        inputs = batch['input_ids']\n",
    "        mask = batch['attention_mask']\n",
    "        targets = batch['labels']\n",
    "        outputs = model(inputs, mask)\n",
    "        pred = outputs.argmax(dim=-1)\n",
    "        correct_predictions = (pred == targets)\n",
    "        masked_correct_predictions = correct_predictions & mask.bool()\n",
    "        correct += masked_correct_predictions.sum().item()\n",
    "        total += mask.sum().item()\n",
    "\n",
    "accuracy = correct/total\n",
    "\n",
    "print(f\"current accuracy: {accuracy*100}%\")"
   ]
  },
  {
   "cell_type": "code",
   "execution_count": 15,
   "metadata": {},
   "outputs": [
    {
     "name": "stdout",
     "output_type": "stream",
     "text": [
      "603039\n",
      "410788\n"
     ]
    }
   ],
   "source": [
    "print(total) \n",
    "print(correct)"
   ]
  },
  {
   "cell_type": "code",
   "execution_count": 16,
   "metadata": {},
   "outputs": [],
   "source": [
    "torch.save(model, '../data/model_final.pth')"
   ]
  }
 ],
 "metadata": {
  "kernelspec": {
   "display_name": "Python 3",
   "language": "python",
   "name": "python3"
  },
  "language_info": {
   "codemirror_mode": {
    "name": "ipython",
    "version": 3
   },
   "file_extension": ".py",
   "mimetype": "text/x-python",
   "name": "python",
   "nbconvert_exporter": "python",
   "pygments_lexer": "ipython3",
   "version": "3.10.13"
  }
 },
 "nbformat": 4,
 "nbformat_minor": 2
}

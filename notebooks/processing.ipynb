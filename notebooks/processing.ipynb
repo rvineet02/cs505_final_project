{
 "cells": [
  {
   "cell_type": "code",
   "execution_count": 3,
   "metadata": {},
   "outputs": [
    {
     "name": "stderr",
     "output_type": "stream",
     "text": [
      "Seed set to 42\n"
     ]
    }
   ],
   "source": [
    "import pandas as pd\n",
    "import matplotlib.pyplot as plt\n",
    "import matplotlib_inline\n",
    "# get higher quality plots\n",
    "matplotlib_inline.backend_inline.set_matplotlib_formats('retina')\n",
    "import torch\n",
    "from pathlib import Path\n",
    "from grammar_ninja.data.grammar.preprocessing import PromptTemplate, PROMPT_TEMPLATE_PATHS\n",
    "import torch\n",
    "import numpy as np\n",
    "from transformers import AutoTokenizer, AutoModelForCausalLM, BitsAndBytesConfig\n",
    "%load_ext autoreload\n",
    "%autoreload 2"
   ]
  },
  {
   "cell_type": "code",
   "execution_count": 7,
   "metadata": {},
   "outputs": [],
   "source": [
    "DATA_DIR = Path(\"/projectnb/cs505ws/projects/grammar_ninja_alavaee/data/grammar\")"
   ]
  },
  {
   "cell_type": "code",
   "execution_count": 8,
   "metadata": {},
   "outputs": [],
   "source": [
    "coedit = pd.read_parquet(DATA_DIR.joinpath(\"coedit\", \"processed\", \"train.parquet\"))"
   ]
  },
  {
   "cell_type": "code",
   "execution_count": 9,
   "metadata": {},
   "outputs": [
    {
     "data": {
      "text/html": [
       "<div>\n",
       "<style scoped>\n",
       "    .dataframe tbody tr th:only-of-type {\n",
       "        vertical-align: middle;\n",
       "    }\n",
       "\n",
       "    .dataframe tbody tr th {\n",
       "        vertical-align: top;\n",
       "    }\n",
       "\n",
       "    .dataframe thead th {\n",
       "        text-align: right;\n",
       "    }\n",
       "</style>\n",
       "<table border=\"1\" class=\"dataframe\">\n",
       "  <thead>\n",
       "    <tr style=\"text-align: right;\">\n",
       "      <th></th>\n",
       "      <th>task</th>\n",
       "      <th>instruction</th>\n",
       "      <th>sentence</th>\n",
       "      <th>corrected_sentence</th>\n",
       "    </tr>\n",
       "  </thead>\n",
       "  <tbody>\n",
       "    <tr>\n",
       "      <th>0</th>\n",
       "      <td>gec</td>\n",
       "      <td>Remove all grammatical errors from this text</td>\n",
       "      <td>For example, countries with a lot of deserts c...</td>\n",
       "      <td>For example, countries with a lot of deserts c...</td>\n",
       "    </tr>\n",
       "    <tr>\n",
       "      <th>1</th>\n",
       "      <td>gec</td>\n",
       "      <td>Improve the grammaticality</td>\n",
       "      <td>As the number of people grows, the need of hab...</td>\n",
       "      <td>As the number of people grows, the need for a ...</td>\n",
       "    </tr>\n",
       "    <tr>\n",
       "      <th>2</th>\n",
       "      <td>gec</td>\n",
       "      <td>Improve the grammaticality of this sentence</td>\n",
       "      <td>Besides some technologically determinists that...</td>\n",
       "      <td>Besides some technological determinists that a...</td>\n",
       "    </tr>\n",
       "    <tr>\n",
       "      <th>3</th>\n",
       "      <td>gec</td>\n",
       "      <td>Remove all grammatical errors from this text</td>\n",
       "      <td>Safety is one of the crucial problems that man...</td>\n",
       "      <td>Safety is one of the crucial problems that man...</td>\n",
       "    </tr>\n",
       "    <tr>\n",
       "      <th>4</th>\n",
       "      <td>gec</td>\n",
       "      <td>Fix grammaticality in this sentence</td>\n",
       "      <td>On one hand more and more virus and hack can a...</td>\n",
       "      <td>On the one hand, more and more viruses and hac...</td>\n",
       "    </tr>\n",
       "    <tr>\n",
       "      <th>...</th>\n",
       "      <td>...</td>\n",
       "      <td>...</td>\n",
       "      <td>...</td>\n",
       "      <td>...</td>\n",
       "    </tr>\n",
       "    <tr>\n",
       "      <th>69066</th>\n",
       "      <td>clarity</td>\n",
       "      <td>Rewrite this sentence for clarity</td>\n",
       "      <td>The Habsburgyears also ushered in the Spanish ...</td>\n",
       "      <td>During the Habsburg's period, Spain ushered in...</td>\n",
       "    </tr>\n",
       "    <tr>\n",
       "      <th>69067</th>\n",
       "      <td>clarity</td>\n",
       "      <td>Rewrite the sentence more clearly</td>\n",
       "      <td>The Habsburgyears also ushered in the Spanish ...</td>\n",
       "      <td>The Habsburgyears also ushered in the Spanish ...</td>\n",
       "    </tr>\n",
       "    <tr>\n",
       "      <th>69068</th>\n",
       "      <td>clarity</td>\n",
       "      <td>Make this sentence more readable</td>\n",
       "      <td>In 2019, he was traded to the Astros in a bloc...</td>\n",
       "      <td>In 2019, he was traded to the Astros in a bloc...</td>\n",
       "    </tr>\n",
       "    <tr>\n",
       "      <th>69069</th>\n",
       "      <td>clarity</td>\n",
       "      <td>Use clearer wording</td>\n",
       "      <td>In 2019, he was traded to the Astros in a bloc...</td>\n",
       "      <td>In 2019, he was traded to the Astros in a bloc...</td>\n",
       "    </tr>\n",
       "    <tr>\n",
       "      <th>69070</th>\n",
       "      <td>clarity</td>\n",
       "      <td>Write a better readable version of the sentence</td>\n",
       "      <td>He is a six-time All-Star, and six-time Gold G...</td>\n",
       "      <td>He is a six-time All-Star, six-time Gold Glove...</td>\n",
       "    </tr>\n",
       "  </tbody>\n",
       "</table>\n",
       "<p>69071 rows × 4 columns</p>\n",
       "</div>"
      ],
      "text/plain": [
       "          task                                      instruction  \\\n",
       "0          gec     Remove all grammatical errors from this text   \n",
       "1          gec                       Improve the grammaticality   \n",
       "2          gec      Improve the grammaticality of this sentence   \n",
       "3          gec     Remove all grammatical errors from this text   \n",
       "4          gec              Fix grammaticality in this sentence   \n",
       "...        ...                                              ...   \n",
       "69066  clarity                Rewrite this sentence for clarity   \n",
       "69067  clarity                Rewrite the sentence more clearly   \n",
       "69068  clarity                 Make this sentence more readable   \n",
       "69069  clarity                              Use clearer wording   \n",
       "69070  clarity  Write a better readable version of the sentence   \n",
       "\n",
       "                                                sentence  \\\n",
       "0      For example, countries with a lot of deserts c...   \n",
       "1      As the number of people grows, the need of hab...   \n",
       "2      Besides some technologically determinists that...   \n",
       "3      Safety is one of the crucial problems that man...   \n",
       "4      On one hand more and more virus and hack can a...   \n",
       "...                                                  ...   \n",
       "69066  The Habsburgyears also ushered in the Spanish ...   \n",
       "69067  The Habsburgyears also ushered in the Spanish ...   \n",
       "69068  In 2019, he was traded to the Astros in a bloc...   \n",
       "69069  In 2019, he was traded to the Astros in a bloc...   \n",
       "69070  He is a six-time All-Star, and six-time Gold G...   \n",
       "\n",
       "                                      corrected_sentence  \n",
       "0      For example, countries with a lot of deserts c...  \n",
       "1      As the number of people grows, the need for a ...  \n",
       "2      Besides some technological determinists that a...  \n",
       "3      Safety is one of the crucial problems that man...  \n",
       "4      On the one hand, more and more viruses and hac...  \n",
       "...                                                  ...  \n",
       "69066  During the Habsburg's period, Spain ushered in...  \n",
       "69067  The Habsburgyears also ushered in the Spanish ...  \n",
       "69068  In 2019, he was traded to the Astros in a bloc...  \n",
       "69069  In 2019, he was traded to the Astros in a bloc...  \n",
       "69070  He is a six-time All-Star, six-time Gold Glove...  \n",
       "\n",
       "[69071 rows x 4 columns]"
      ]
     },
     "execution_count": 9,
     "metadata": {},
     "output_type": "execute_result"
    }
   ],
   "source": [
    "coedit"
   ]
  },
  {
   "cell_type": "code",
   "execution_count": 11,
   "metadata": {},
   "outputs": [],
   "source": [
    "input_text_lengths = coedit[\"sentence\"].map(lambda t: len(t)).to_numpy()"
   ]
  },
  {
   "cell_type": "code",
   "execution_count": 12,
   "metadata": {},
   "outputs": [],
   "source": [
    "prompt_template = PromptTemplate(prompt_template_path=PROMPT_TEMPLATE_PATHS / \"simple.txt\")"
   ]
  },
  {
   "cell_type": "code",
   "execution_count": 14,
   "metadata": {},
   "outputs": [
    {
     "name": "stdout",
     "output_type": "stream",
     "text": [
      "Correct this sentence\n",
      "\n",
      "### Sentence:\n",
      "Hellow there!\n",
      "\n",
      "### Corrected Sentence:\n",
      "Hello there!\n"
     ]
    }
   ],
   "source": [
    "print(prompt_template.format_prompt(dict(instruction=\"Correct this sentence\",\n",
    "                                    sentence=\"Hellow there!\",\n",
    "                                    corrected_sentence=\"Hello there!\")))"
   ]
  },
  {
   "cell_type": "code",
   "execution_count": 18,
   "metadata": {},
   "outputs": [],
   "source": [
    "inputs = coedit.apply(\n",
    "    lambda row: prompt_template.format_prompt(dict(\n",
    "        instruction=row[\"instruction\"],\n",
    "        sentence=row[\"sentence\"],\n",
    "        corrected_sentence=row[\"corrected_sentence\"],\n",
    "    )),\n",
    "    axis=1,\n",
    ")"
   ]
  },
  {
   "cell_type": "code",
   "execution_count": 19,
   "metadata": {},
   "outputs": [],
   "source": [
    "CACHE_DIR = \"/projectnb/cs505ws/projects/grammar_ninja_alavaee/model_weights\"\n",
    "MODEL_ID = \"mistralai/Mistral-7B-v0.1\"\n",
    "\n",
    "tokenizer = AutoTokenizer.from_pretrained(\n",
    "    pretrained_model_name_or_path=MODEL_ID,\n",
    "    padding_side=\"left\",\n",
    "    add_eos_token=True,\n",
    "    add_bos_token=True,\n",
    "    local_files_only=True,\n",
    "    cache_dir=CACHE_DIR\n",
    ")\n",
    "tokenizer.pad_token = tokenizer.eos_token"
   ]
  },
  {
   "cell_type": "code",
   "execution_count": 20,
   "metadata": {},
   "outputs": [],
   "source": [
    "tokenized_inputs = tokenizer(inputs.tolist())"
   ]
  },
  {
   "cell_type": "code",
   "execution_count": 21,
   "metadata": {},
   "outputs": [],
   "source": [
    "lengths = [len(tok) for tok in tokenized_inputs[\"input_ids\"]]"
   ]
  },
  {
   "cell_type": "code",
   "execution_count": 24,
   "metadata": {},
   "outputs": [
    {
     "data": {
      "text/plain": [
       "Encoding(num_tokens=95, attributes=[ids, type_ids, tokens, offsets, attention_mask, special_tokens_mask, overflowing])"
      ]
     },
     "execution_count": 24,
     "metadata": {},
     "output_type": "execute_result"
    }
   ],
   "source": [
    "tokenized_inputs[0]"
   ]
  },
  {
   "cell_type": "code",
   "execution_count": 25,
   "metadata": {},
   "outputs": [
    {
     "data": {
      "text/plain": [
       "'Remove all grammatical errors from this text\\n\\n### Sentence:\\nFor example, countries with a lot of deserts can terraform their desert to increase their habitable land and using irrigation to provide clean water to the desert.\\n\\n### Corrected Sentence:\\nFor example, countries with a lot of deserts can transform their desert to increase their habitable land and use irrigation to provide clean water to the desert.'"
      ]
     },
     "execution_count": 25,
     "metadata": {},
     "output_type": "execute_result"
    }
   ],
   "source": [
    "inputs[0]"
   ]
  },
  {
   "cell_type": "code",
   "execution_count": 22,
   "metadata": {},
   "outputs": [
    {
     "data": {
      "text/plain": [
       "(array([3.3265e+04, 2.5861e+04, 7.5420e+03, 2.0970e+03, 2.2300e+02,\n",
       "        5.0000e+01, 1.9000e+01, 7.0000e+00, 2.0000e+00, 3.0000e+00,\n",
       "        0.0000e+00, 0.0000e+00, 0.0000e+00, 0.0000e+00, 0.0000e+00,\n",
       "        0.0000e+00, 0.0000e+00, 0.0000e+00, 0.0000e+00, 2.0000e+00]),\n",
       " array([ 29. ,  64.7, 100.4, 136.1, 171.8, 207.5, 243.2, 278.9, 314.6,\n",
       "        350.3, 386. , 421.7, 457.4, 493.1, 528.8, 564.5, 600.2, 635.9,\n",
       "        671.6, 707.3, 743. ]),\n",
       " <BarContainer object of 20 artists>)"
      ]
     },
     "execution_count": 22,
     "metadata": {},
     "output_type": "execute_result"
    },
    {
     "data": {
      "image/png": "[encoded data removed]",
      "text/plain": [
       "<Figure size 1000x500 with 1 Axes>"
      ]
     },
     "metadata": {
      "image/png": {
       "height": 428,
       "width": 848
      }
     },
     "output_type": "display_data"
    }
   ],
   "source": [
    "fig = plt.figure(figsize=(10, 5))\n",
    "ax = fig.add_subplot(111)\n",
    "\n",
    "ax.hist(lengths, bins=20)"
   ]
  },
  {
   "cell_type": "code",
   "execution_count": 26,
   "metadata": {},
   "outputs": [
    {
     "data": {
      "text/plain": [
       "73.35131965658525"
      ]
     },
     "execution_count": 26,
     "metadata": {},
     "output_type": "execute_result"
    }
   ],
   "source": [
    "np.array(lengths).mean()"
   ]
  },
  {
   "cell_type": "code",
   "execution_count": null,
   "metadata": {},
   "outputs": [],
   "source": []
  }
 ],
 "metadata": {
  "kernelspec": {
   "display_name": "grammar_ninja",
   "language": "python",
   "name": "python3"
  },
  "language_info": {
   "codemirror_mode": {
    "name": "ipython",
    "version": 3
   },
   "file_extension": ".py",
   "mimetype": "text/x-python",
   "name": "python",
   "nbconvert_exporter": "python",
   "pygments_lexer": "ipython3",
   "version": "3.10.13"
  }
 },
 "nbformat": 4,
 "nbformat_minor": 2
}

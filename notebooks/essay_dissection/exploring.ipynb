{
 "cells": [
  {
   "cell_type": "markdown",
   "metadata": {},
   "source": [
    "# Exploring Training Data"
   ]
  },
  {
   "cell_type": "code",
   "execution_count": 4,
   "metadata": {},
   "outputs": [
    {
     "name": "stderr",
     "output_type": "stream",
     "text": [
      "Reading files in /Users/dhruvchandwani/fall2023/cs505/cs505_final_project/essay_dissection_model/data/train1: 100%|██████████| 4191/4191 [00:00<00:00, 8176.76it/s]\n",
      "Reading files in /Users/dhruvchandwani/fall2023/cs505/cs505_final_project/essay_dissection_model/data/train2: 100%|██████████| 15594/15594 [00:02<00:00, 7590.65it/s]\n",
      "Comparing files in folder 1: 100%|██████████| 4191/4191 [00:05<00:00, 831.76it/s]"
     ]
    },
    {
     "name": "stdout",
     "output_type": "stream",
     "text": [
      "The number of duplicates between the two datasets in focus are 3847\n"
     ]
    },
    {
     "name": "stderr",
     "output_type": "stream",
     "text": [
      "\n"
     ]
    }
   ],
   "source": [
    "import os\n",
    "from tqdm import tqdm\n",
    "\n",
    "def read_files_from_folder(folder_path):\n",
    "    file_contents = {}\n",
    "    for filename in tqdm(os.listdir(folder_path), desc=f\"Reading files in {folder_path}\"):\n",
    "        if filename.endswith('.txt'):\n",
    "            with open(os.path.join(folder_path, filename), 'r') as file:\n",
    "                file_contents[filename] = file.read()\n",
    "    return file_contents\n",
    "\n",
    "folder1_path = '/Users/dhruvchandwani/fall2023/cs505/cs505_final_project/essay_dissection_model/data/train1'\n",
    "folder2_path = '/Users/dhruvchandwani/fall2023/cs505/cs505_final_project/essay_dissection_model/data/train2'\n",
    "\n",
    "folder1_files = read_files_from_folder(folder1_path)\n",
    "folder2_files = read_files_from_folder(folder2_path)\n",
    "\n",
    "duplicates = []\n",
    "for file1, content1 in tqdm(folder1_files.items(), desc=\"Comparing files in folder 1\"):\n",
    "    for file2, content2 in folder2_files.items():\n",
    "        if content1 == content2:\n",
    "            duplicates.append((file1, file2))\n",
    "\n",
    "print(f\"The number of duplicates between the two datasets in focus are {len(duplicates)}\")\n",
    "\n"
   ]
  },
  {
   "cell_type": "markdown",
   "metadata": {},
   "source": [
    "### Due to the number of duplicates we go with the larger corpus as our one and only training set"
   ]
  },
  {
   "cell_type": "code",
   "execution_count": 11,
   "metadata": {},
   "outputs": [
    {
     "name": "stdout",
     "output_type": "stream",
     "text": [
      "{'Position', 'Lead', 'Rebuttal', 'Claim', 'Evidence', 'Counterclaim', 'Concluding Statement'}\n",
      "['Claim 1', 'Claim 10', 'Claim 11', 'Claim 12', 'Claim 2', 'Claim 3', 'Claim 4', 'Claim 5', 'Claim 6', 'Claim 7', 'Claim 8', 'Claim 9', 'Concluding Statement 1', 'Concluding Statement 2', 'Concluding Statement 3', 'Concluding Statement 4', 'Counterclaim 1', 'Counterclaim 2', 'Counterclaim 3', 'Counterclaim 4', 'Counterclaim 5', 'Counterclaim 6', 'Evidence 1', 'Evidence 10', 'Evidence 11', 'Evidence 12', 'Evidence 2', 'Evidence 3', 'Evidence 4', 'Evidence 5', 'Evidence 6', 'Evidence 7', 'Evidence 8', 'Evidence 9', 'Lead 1', 'Lead 2', 'Position 1', 'Position 2', 'Rebuttal 1', 'Rebuttal 2', 'Rebuttal 3', 'Rebuttal 4', 'Rebuttal 5', 'Rebuttal 6']\n"
     ]
    }
   ],
   "source": [
    "import pandas as pd\n",
    "\n",
    "df = pd.read_csv('/Users/dhruvchandwani/fall2023/cs505/cs505_final_project/essay_dissection_model/data/feedback-prize-2021/train.csv')\n",
    "\n",
    "parts = set(df[\"discourse_type\"])\n",
    "\n",
    "parts_n  = sorted(list(set(df[\"discourse_type_num\"])))\n",
    "\n",
    "print(parts)\n",
    "\n",
    "print(parts_n)"
   ]
  },
  {
   "cell_type": "code",
   "execution_count": 2,
   "metadata": {},
   "outputs": [
    {
     "name": "stderr",
     "output_type": "stream",
     "text": [
      "Reading files in /Users/dhruvchandwani/fall2023/cs505/cs505_final_project/essay_dissection_model/data/train2: 100%|██████████| 15594/15594 [00:00<00:00, 47402.09it/s]"
     ]
    },
    {
     "name": "stdout",
     "output_type": "stream",
     "text": [
      "The longest essay is 18322 characters\n",
      "The shortest essay is 691 characters\n"
     ]
    },
    {
     "name": "stderr",
     "output_type": "stream",
     "text": [
      "\n"
     ]
    }
   ],
   "source": [
    "import os\n",
    "from tqdm import tqdm\n",
    "\n",
    "def read_files_from_folder(folder_path):\n",
    "    file_contents = {}\n",
    "    for filename in tqdm(os.listdir(folder_path), desc=f\"Reading files in {folder_path}\"):\n",
    "        if filename.endswith('.txt'):\n",
    "            with open(os.path.join(folder_path, filename), 'r') as file:\n",
    "                file_contents[filename] = file.read()\n",
    "    return file_contents\n",
    "\n",
    "folder2_path = '/Users/dhruvchandwani/fall2023/cs505/cs505_final_project/essay_dissection_model/data/train2'\n",
    "folder2_files = read_files_from_folder(folder2_path)\n",
    "\n",
    "folder2_contents = folder2_files.values()\n",
    "folder2_lens = [len(text) for text in folder2_contents]\n",
    "\n",
    "\n",
    "\n",
    "print(f\"The longest essay is {max(folder2_lens)} characters\")\n",
    "print(f\"The shortest essay is {min(folder2_lens)} characters\")\n"
   ]
  }
 ],
 "metadata": {
  "kernelspec": {
   "display_name": "Python 3",
   "language": "python",
   "name": "python3"
  },
  "language_info": {
   "codemirror_mode": {
    "name": "ipython",
    "version": 3
   },
   "file_extension": ".py",
   "mimetype": "text/x-python",
   "name": "python",
   "nbconvert_exporter": "python",
   "pygments_lexer": "ipython3",
   "version": "3.9.6"
  }
 },
 "nbformat": 4,
 "nbformat_minor": 2
}

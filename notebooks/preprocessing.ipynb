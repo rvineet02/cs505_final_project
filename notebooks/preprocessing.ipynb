{
 "cells": [
  {
   "cell_type": "code",
   "execution_count": 1,
   "metadata": {},
   "outputs": [],
   "source": [
    "import pandas as pd\n",
    "from pathlib import Path\n",
    "import re\n",
    "from typing import Dict\n",
    "import numpy as np"
   ]
  },
  {
   "cell_type": "code",
   "execution_count": 2,
   "metadata": {},
   "outputs": [],
   "source": [
    "DATA_DIR = Path(\"/projectnb/cs505ws/projects/grammar_ninja_alavaee/data/grammar/raw\")"
   ]
  },
  {
   "cell_type": "code",
   "execution_count": 3,
   "metadata": {},
   "outputs": [],
   "source": [
    "coedit = pd.read_parquet(DATA_DIR.joinpath(\"coedit\", \"train.parquet\"))"
   ]
  },
  {
   "cell_type": "code",
   "execution_count": 4,
   "metadata": {},
   "outputs": [
    {
     "data": {
      "text/html": [
       "<div>\n",
       "<style scoped>\n",
       "    .dataframe tbody tr th:only-of-type {\n",
       "        vertical-align: middle;\n",
       "    }\n",
       "\n",
       "    .dataframe tbody tr th {\n",
       "        vertical-align: top;\n",
       "    }\n",
       "\n",
       "    .dataframe thead th {\n",
       "        text-align: right;\n",
       "    }\n",
       "</style>\n",
       "<table border=\"1\" class=\"dataframe\">\n",
       "  <thead>\n",
       "    <tr style=\"text-align: right;\">\n",
       "      <th></th>\n",
       "      <th>task</th>\n",
       "      <th>prompts</th>\n",
       "      <th>input_text</th>\n",
       "      <th>output_text</th>\n",
       "    </tr>\n",
       "  </thead>\n",
       "  <tbody>\n",
       "    <tr>\n",
       "      <th>0</th>\n",
       "      <td>gec</td>\n",
       "      <td>Remove all grammatical errors from this text</td>\n",
       "      <td>For example, countries with a lot of deserts ...</td>\n",
       "      <td>For example, countries with a lot of deserts c...</td>\n",
       "    </tr>\n",
       "    <tr>\n",
       "      <th>1</th>\n",
       "      <td>gec</td>\n",
       "      <td>Improve the grammaticality</td>\n",
       "      <td>As the number of people grows, the need of ha...</td>\n",
       "      <td>As the number of people grows, the need for a ...</td>\n",
       "    </tr>\n",
       "    <tr>\n",
       "      <th>2</th>\n",
       "      <td>gec</td>\n",
       "      <td>Improve the grammaticality of this sentence</td>\n",
       "      <td>Besides some technologically determinists tha...</td>\n",
       "      <td>Besides some technological determinists that a...</td>\n",
       "    </tr>\n",
       "    <tr>\n",
       "      <th>3</th>\n",
       "      <td>gec</td>\n",
       "      <td>Remove all grammatical errors from this text</td>\n",
       "      <td>Safety is one of the crucial problems that ma...</td>\n",
       "      <td>Safety is one of the crucial problems that man...</td>\n",
       "    </tr>\n",
       "    <tr>\n",
       "      <th>4</th>\n",
       "      <td>gec</td>\n",
       "      <td>Fix grammaticality in this sentence</td>\n",
       "      <td>On one hand more and more virus and hack can ...</td>\n",
       "      <td>On the one hand, more and more viruses and hac...</td>\n",
       "    </tr>\n",
       "  </tbody>\n",
       "</table>\n",
       "</div>"
      ],
      "text/plain": [
       "  task                                       prompts  \\\n",
       "0  gec  Remove all grammatical errors from this text   \n",
       "1  gec                    Improve the grammaticality   \n",
       "2  gec   Improve the grammaticality of this sentence   \n",
       "3  gec  Remove all grammatical errors from this text   \n",
       "4  gec           Fix grammaticality in this sentence   \n",
       "\n",
       "                                          input_text  \\\n",
       "0   For example, countries with a lot of deserts ...   \n",
       "1   As the number of people grows, the need of ha...   \n",
       "2   Besides some technologically determinists tha...   \n",
       "3   Safety is one of the crucial problems that ma...   \n",
       "4   On one hand more and more virus and hack can ...   \n",
       "\n",
       "                                         output_text  \n",
       "0  For example, countries with a lot of deserts c...  \n",
       "1  As the number of people grows, the need for a ...  \n",
       "2  Besides some technological determinists that a...  \n",
       "3  Safety is one of the crucial problems that man...  \n",
       "4  On the one hand, more and more viruses and hac...  "
      ]
     },
     "execution_count": 4,
     "metadata": {},
     "output_type": "execute_result"
    }
   ],
   "source": [
    "coedit.head()"
   ]
  },
  {
   "cell_type": "code",
   "execution_count": 9,
   "metadata": {},
   "outputs": [
    {
     "data": {
      "text/plain": [
       "array(['gec', 'neutralize', 'simplification', 'paraphrase', 'coherence',\n",
       "       'clarity'], dtype=object)"
      ]
     },
     "execution_count": 9,
     "metadata": {},
     "output_type": "execute_result"
    }
   ],
   "source": [
    "coedit.task.unique()"
   ]
  },
  {
   "cell_type": "code",
   "execution_count": 10,
   "metadata": {},
   "outputs": [
    {
     "data": {
      "text/plain": [
       "task\n",
       "gec               19823\n",
       "paraphrase        15370\n",
       "simplification    11440\n",
       "coherence         10616\n",
       "neutralize        10570\n",
       "clarity            1252\n",
       "Name: count, dtype: int64"
      ]
     },
     "execution_count": 10,
     "metadata": {},
     "output_type": "execute_result"
    }
   ],
   "source": [
    "coedit.task.value_counts()"
   ]
  },
  {
   "cell_type": "code",
   "execution_count": 11,
   "metadata": {},
   "outputs": [
    {
     "data": {
      "text/plain": [
       "884"
      ]
     },
     "execution_count": 11,
     "metadata": {},
     "output_type": "execute_result"
    }
   ],
   "source": [
    "coedit.src.apply(lambda s: len(s)).max()"
   ]
  },
  {
   "cell_type": "code",
   "execution_count": 12,
   "metadata": {},
   "outputs": [
    {
     "data": {
      "text/plain": [
       "127.42111740093527"
      ]
     },
     "execution_count": 12,
     "metadata": {},
     "output_type": "execute_result"
    }
   ],
   "source": [
    "coedit.src.apply(lambda s: len(s)).mean()"
   ]
  },
  {
   "cell_type": "code",
   "execution_count": 13,
   "metadata": {},
   "outputs": [],
   "source": [
    "prompts = coedit.src.str.extract(r\"^(.*?):\")"
   ]
  },
  {
   "cell_type": "code",
   "execution_count": 14,
   "metadata": {},
   "outputs": [
    {
     "data": {
      "text/plain": [
       "array(['Remove all grammatical errors from this text',\n",
       "       'Improve the grammaticality',\n",
       "       'Improve the grammaticality of this sentence',\n",
       "       'Fix grammaticality in this sentence',\n",
       "       'Improve the grammar of this text', 'Fix grammar in this sentence',\n",
       "       'Fix grammar in the sentence', 'Update to remove grammar errors',\n",
       "       'Fix grammar errors in this sentence',\n",
       "       'Remove grammatical mistakes', 'Fix disfluencies in the sentence',\n",
       "       'Fix grammaticality', 'Fix grammaticality of the sentence',\n",
       "       'Fix grammar', 'Make the sentence grammatical',\n",
       "       'Improve the grammaticality of this text', 'Fix grammar errors',\n",
       "       'Fix grammatical errors in this sentence',\n",
       "       'Fix all grammatical errors', 'Fix the grammatical mistakes',\n",
       "       'Fix errors in this text', 'Make the sentence fluent',\n",
       "       'Fix grammatical errors', 'Grammar improvements',\n",
       "       'Fix grammatical mistakes in this sentence',\n",
       "       'Remove grammar mistakes', 'Fix the grammar mistakes',\n",
       "       'Make this text more neutral', 'Remove points of view',\n",
       "       'Neutralize the sentence', 'Neutralize the text',\n",
       "       'Remove unsourced opinions from this text', 'Neutralize this text',\n",
       "       'Remove POV in this text', 'Remove non-neutral POV',\n",
       "       'Neutralize this sentence', 'Make this sentence more neutral',\n",
       "       'Make this paragraph more neutral', 'Remove non-neutral POVs',\n",
       "       'Make this more neutral', 'Remove POVs in this text', 'Remove POV',\n",
       "       'Remove POVs', 'Remove non-neutral points of view',\n",
       "       'Remove unsourced opinions', 'Make this text less biased',\n",
       "       'Simplify this text', 'Simplify this sentence',\n",
       "       'Make the sentence simpler', 'Change to simpler wording',\n",
       "       'Write a simpler version for the sentence',\n",
       "       'Simplify the sentence', 'Make this easier to understand',\n",
       "       'Simplification', 'Make this text less complex',\n",
       "       'Rewrite this sentence for simplicity', 'Simplify',\n",
       "       'Rewrite this sentence in a simpler manner', 'Use simpler wording',\n",
       "       'Simplify this paragraph', 'Rewrite this with simpler wording',\n",
       "       'Make this simpler', 'Make the sentence simple',\n",
       "       'Rewrite the sentence to be simpler', 'Reword this sentence',\n",
       "       'Reword this text', 'Paraphrase', 'Rewrite this sentence',\n",
       "       'Write a paraphrased version of the sentence',\n",
       "       'Paraphrase this sentence', 'Paraphrase this text',\n",
       "       'Rewrite the sentence with different wording', 'Rewrite this text',\n",
       "       'Rephrase this sentence', 'Rephrase this text',\n",
       "       'Write a paraphrase for the sentence', 'Paraphrase the sentence',\n",
       "       'Use different wording', 'Fix coherence in this sentence',\n",
       "       'Fix coherence in this text',\n",
       "       'Improve the cohesiveness of the text',\n",
       "       'Make the text more cohesive, logically linked and consistent as a whole',\n",
       "       'Make the text clearer', 'Improve the coherence of the text',\n",
       "       'Fix sentence transition', 'Make the text more cohesive',\n",
       "       'Fix coherence in the sentence',\n",
       "       'Fix lack of coherence in the sentence', 'Make the text coherent',\n",
       "       'Make the text more logical',\n",
       "       'Improve the consistency of the text',\n",
       "       'Make the text more consistent', 'Fix coherence of the sentence',\n",
       "       'Fix coherence mistakes in this sentence',\n",
       "       'Make the text more coherent', 'Fix coherence in the text',\n",
       "       'Fix coherence errors', 'Fix coherence',\n",
       "       'Fix coherence errors in this sentence', 'Fix sentence flow',\n",
       "       'Clarify', 'Use clearer wording',\n",
       "       'Make the text more understandable',\n",
       "       'Rewrite this sentence clearly', 'Clarify this sentence',\n",
       "       'Make the sentence clearer',\n",
       "       'Rewrite this sentence for readability', 'Clarify the sentence',\n",
       "       'Write a better readable version of the sentence', 'Clarification',\n",
       "       'Write a clarified version of the sentence',\n",
       "       'Make this sentence more readable',\n",
       "       'Write a clearer version for the sentence',\n",
       "       'Rewrite this sentence for clarity', 'Make the sentence clear',\n",
       "       'Improve this sentence for readability',\n",
       "       'Make this sentence better readable', 'Make this easier to read',\n",
       "       'Clarify this paragraph', 'Change to clearer wording',\n",
       "       'Write a readable version of the sentence',\n",
       "       'Rewrite the sentence more clearly', 'Make this sentence readable',\n",
       "       'Clarify this text'], dtype=object)"
      ]
     },
     "execution_count": 14,
     "metadata": {},
     "output_type": "execute_result"
    }
   ],
   "source": [
    "prompts.iloc[:, 0].unique()"
   ]
  },
  {
   "cell_type": "code",
   "execution_count": 15,
   "metadata": {},
   "outputs": [],
   "source": [
    "coedit[\"prompts\"] = coedit.src.str.extract(r\"^(.*?):\")"
   ]
  },
  {
   "cell_type": "code",
   "execution_count": 16,
   "metadata": {},
   "outputs": [],
   "source": [
    "coedit[\"input_text\"] = coedit.src.str.extract(r\":(.+)\")"
   ]
  },
  {
   "cell_type": "code",
   "execution_count": 17,
   "metadata": {},
   "outputs": [
    {
     "data": {
      "text/html": [
       "<div>\n",
       "<style scoped>\n",
       "    .dataframe tbody tr th:only-of-type {\n",
       "        vertical-align: middle;\n",
       "    }\n",
       "\n",
       "    .dataframe tbody tr th {\n",
       "        vertical-align: top;\n",
       "    }\n",
       "\n",
       "    .dataframe thead th {\n",
       "        text-align: right;\n",
       "    }\n",
       "</style>\n",
       "<table border=\"1\" class=\"dataframe\">\n",
       "  <thead>\n",
       "    <tr style=\"text-align: right;\">\n",
       "      <th></th>\n",
       "      <th>_id</th>\n",
       "      <th>task</th>\n",
       "      <th>src</th>\n",
       "      <th>output_text</th>\n",
       "      <th>prompts</th>\n",
       "      <th>input_text</th>\n",
       "    </tr>\n",
       "  </thead>\n",
       "  <tbody>\n",
       "    <tr>\n",
       "      <th>0</th>\n",
       "      <td>1</td>\n",
       "      <td>gec</td>\n",
       "      <td>Remove all grammatical errors from this text: ...</td>\n",
       "      <td>For example, countries with a lot of deserts c...</td>\n",
       "      <td>Remove all grammatical errors from this text</td>\n",
       "      <td>For example, countries with a lot of deserts ...</td>\n",
       "    </tr>\n",
       "    <tr>\n",
       "      <th>1</th>\n",
       "      <td>2</td>\n",
       "      <td>gec</td>\n",
       "      <td>Improve the grammaticality: As the number of p...</td>\n",
       "      <td>As the number of people grows, the need for a ...</td>\n",
       "      <td>Improve the grammaticality</td>\n",
       "      <td>As the number of people grows, the need of ha...</td>\n",
       "    </tr>\n",
       "    <tr>\n",
       "      <th>2</th>\n",
       "      <td>3</td>\n",
       "      <td>gec</td>\n",
       "      <td>Improve the grammaticality of this sentence: B...</td>\n",
       "      <td>Besides some technological determinists that a...</td>\n",
       "      <td>Improve the grammaticality of this sentence</td>\n",
       "      <td>Besides some technologically determinists tha...</td>\n",
       "    </tr>\n",
       "    <tr>\n",
       "      <th>3</th>\n",
       "      <td>4</td>\n",
       "      <td>gec</td>\n",
       "      <td>Remove all grammatical errors from this text: ...</td>\n",
       "      <td>Safety is one of the crucial problems that man...</td>\n",
       "      <td>Remove all grammatical errors from this text</td>\n",
       "      <td>Safety is one of the crucial problems that ma...</td>\n",
       "    </tr>\n",
       "    <tr>\n",
       "      <th>4</th>\n",
       "      <td>5</td>\n",
       "      <td>gec</td>\n",
       "      <td>Fix grammaticality in this sentence: On one ha...</td>\n",
       "      <td>On the one hand, more and more viruses and hac...</td>\n",
       "      <td>Fix grammaticality in this sentence</td>\n",
       "      <td>On one hand more and more virus and hack can ...</td>\n",
       "    </tr>\n",
       "    <tr>\n",
       "      <th>...</th>\n",
       "      <td>...</td>\n",
       "      <td>...</td>\n",
       "      <td>...</td>\n",
       "      <td>...</td>\n",
       "      <td>...</td>\n",
       "      <td>...</td>\n",
       "    </tr>\n",
       "    <tr>\n",
       "      <th>69066</th>\n",
       "      <td>69067</td>\n",
       "      <td>clarity</td>\n",
       "      <td>Rewrite this sentence for clarity: The Habsbur...</td>\n",
       "      <td>During the Habsburg's period, Spain ushered in...</td>\n",
       "      <td>Rewrite this sentence for clarity</td>\n",
       "      <td>The Habsburgyears also ushered in the Spanish...</td>\n",
       "    </tr>\n",
       "    <tr>\n",
       "      <th>69067</th>\n",
       "      <td>69068</td>\n",
       "      <td>clarity</td>\n",
       "      <td>Rewrite the sentence more clearly: The Habsbur...</td>\n",
       "      <td>The Habsburgyears also ushered in the Spanish ...</td>\n",
       "      <td>Rewrite the sentence more clearly</td>\n",
       "      <td>The Habsburgyears also ushered in the Spanish...</td>\n",
       "    </tr>\n",
       "    <tr>\n",
       "      <th>69068</th>\n",
       "      <td>69069</td>\n",
       "      <td>clarity</td>\n",
       "      <td>Make this sentence more readable: In 2019, he ...</td>\n",
       "      <td>In 2019, he was traded to the Astros in a bloc...</td>\n",
       "      <td>Make this sentence more readable</td>\n",
       "      <td>In 2019, he was traded to the Astros in a blo...</td>\n",
       "    </tr>\n",
       "    <tr>\n",
       "      <th>69069</th>\n",
       "      <td>69070</td>\n",
       "      <td>clarity</td>\n",
       "      <td>Use clearer wording: In 2019, he was traded to...</td>\n",
       "      <td>In 2019, he was traded to the Astros in a bloc...</td>\n",
       "      <td>Use clearer wording</td>\n",
       "      <td>In 2019, he was traded to the Astros in a blo...</td>\n",
       "    </tr>\n",
       "    <tr>\n",
       "      <th>69070</th>\n",
       "      <td>69071</td>\n",
       "      <td>clarity</td>\n",
       "      <td>Write a better readable version of the sentenc...</td>\n",
       "      <td>He is a six-time All-Star, six-time Gold Glove...</td>\n",
       "      <td>Write a better readable version of the sentence</td>\n",
       "      <td>He is a six-time All-Star, and six-time Gold ...</td>\n",
       "    </tr>\n",
       "  </tbody>\n",
       "</table>\n",
       "<p>69071 rows × 6 columns</p>\n",
       "</div>"
      ],
      "text/plain": [
       "         _id     task                                                src  \\\n",
       "0          1      gec  Remove all grammatical errors from this text: ...   \n",
       "1          2      gec  Improve the grammaticality: As the number of p...   \n",
       "2          3      gec  Improve the grammaticality of this sentence: B...   \n",
       "3          4      gec  Remove all grammatical errors from this text: ...   \n",
       "4          5      gec  Fix grammaticality in this sentence: On one ha...   \n",
       "...      ...      ...                                                ...   \n",
       "69066  69067  clarity  Rewrite this sentence for clarity: The Habsbur...   \n",
       "69067  69068  clarity  Rewrite the sentence more clearly: The Habsbur...   \n",
       "69068  69069  clarity  Make this sentence more readable: In 2019, he ...   \n",
       "69069  69070  clarity  Use clearer wording: In 2019, he was traded to...   \n",
       "69070  69071  clarity  Write a better readable version of the sentenc...   \n",
       "\n",
       "                                             output_text  \\\n",
       "0      For example, countries with a lot of deserts c...   \n",
       "1      As the number of people grows, the need for a ...   \n",
       "2      Besides some technological determinists that a...   \n",
       "3      Safety is one of the crucial problems that man...   \n",
       "4      On the one hand, more and more viruses and hac...   \n",
       "...                                                  ...   \n",
       "69066  During the Habsburg's period, Spain ushered in...   \n",
       "69067  The Habsburgyears also ushered in the Spanish ...   \n",
       "69068  In 2019, he was traded to the Astros in a bloc...   \n",
       "69069  In 2019, he was traded to the Astros in a bloc...   \n",
       "69070  He is a six-time All-Star, six-time Gold Glove...   \n",
       "\n",
       "                                               prompts  \\\n",
       "0         Remove all grammatical errors from this text   \n",
       "1                           Improve the grammaticality   \n",
       "2          Improve the grammaticality of this sentence   \n",
       "3         Remove all grammatical errors from this text   \n",
       "4                  Fix grammaticality in this sentence   \n",
       "...                                                ...   \n",
       "69066                Rewrite this sentence for clarity   \n",
       "69067                Rewrite the sentence more clearly   \n",
       "69068                 Make this sentence more readable   \n",
       "69069                              Use clearer wording   \n",
       "69070  Write a better readable version of the sentence   \n",
       "\n",
       "                                              input_text  \n",
       "0       For example, countries with a lot of deserts ...  \n",
       "1       As the number of people grows, the need of ha...  \n",
       "2       Besides some technologically determinists tha...  \n",
       "3       Safety is one of the crucial problems that ma...  \n",
       "4       On one hand more and more virus and hack can ...  \n",
       "...                                                  ...  \n",
       "69066   The Habsburgyears also ushered in the Spanish...  \n",
       "69067   The Habsburgyears also ushered in the Spanish...  \n",
       "69068   In 2019, he was traded to the Astros in a blo...  \n",
       "69069   In 2019, he was traded to the Astros in a blo...  \n",
       "69070   He is a six-time All-Star, and six-time Gold ...  \n",
       "\n",
       "[69071 rows x 6 columns]"
      ]
     },
     "execution_count": 17,
     "metadata": {},
     "output_type": "execute_result"
    }
   ],
   "source": [
    "coedit.rename({\"tgt\": \"output_text\"}, axis=1)"
   ]
  },
  {
   "cell_type": "code",
   "execution_count": 18,
   "metadata": {},
   "outputs": [],
   "source": [
    "wi_locness = pd.read_parquet(DATA_DIR.joinpath(\"wi_locness\", \"validation.parquet\"))"
   ]
  },
  {
   "cell_type": "code",
   "execution_count": 19,
   "metadata": {},
   "outputs": [
    {
     "data": {
      "text/html": [
       "<div>\n",
       "<style scoped>\n",
       "    .dataframe tbody tr th:only-of-type {\n",
       "        vertical-align: middle;\n",
       "    }\n",
       "\n",
       "    .dataframe tbody tr th {\n",
       "        vertical-align: top;\n",
       "    }\n",
       "\n",
       "    .dataframe thead th {\n",
       "        text-align: right;\n",
       "    }\n",
       "</style>\n",
       "<table border=\"1\" class=\"dataframe\">\n",
       "  <thead>\n",
       "    <tr style=\"text-align: right;\">\n",
       "      <th></th>\n",
       "      <th>id</th>\n",
       "      <th>cefr</th>\n",
       "      <th>text</th>\n",
       "      <th>edits</th>\n",
       "    </tr>\n",
       "  </thead>\n",
       "  <tbody>\n",
       "    <tr>\n",
       "      <th>0</th>\n",
       "      <td>7-5819177</td>\n",
       "      <td>N</td>\n",
       "      <td>Boxing is a common, well known and well loved ...</td>\n",
       "      <td>{'start': [24, 39, 52, 87, 242, 371, 400, 528,...</td>\n",
       "    </tr>\n",
       "    <tr>\n",
       "      <th>1</th>\n",
       "      <td>7-5819215</td>\n",
       "      <td>N</td>\n",
       "      <td>In many of the minority works of modern litera...</td>\n",
       "      <td>{'start': [525, 954, 1819, 2154, 2200], 'end':...</td>\n",
       "    </tr>\n",
       "    <tr>\n",
       "      <th>2</th>\n",
       "      <td>7-5819167</td>\n",
       "      <td>N</td>\n",
       "      <td>How does Voltaire tackle the question of philo...</td>\n",
       "      <td>{'start': [154, 155, 254, 414, 490, 576, 672, ...</td>\n",
       "    </tr>\n",
       "    <tr>\n",
       "      <th>3</th>\n",
       "      <td>7-5819168</td>\n",
       "      <td>N</td>\n",
       "      <td>It would be tempting to think of the various E...</td>\n",
       "      <td>{'start': [99, 193, 564, 1245, 1321, 1987, 204...</td>\n",
       "    </tr>\n",
       "    <tr>\n",
       "      <th>4</th>\n",
       "      <td>7-5819169</td>\n",
       "      <td>N</td>\n",
       "      <td>Naturally, the problems of a single Europe wou...</td>\n",
       "      <td>{'start': [145, 338, 552, 563, 571, 713, 841, ...</td>\n",
       "    </tr>\n",
       "  </tbody>\n",
       "</table>\n",
       "</div>"
      ],
      "text/plain": [
       "          id cefr                                               text  \\\n",
       "0  7-5819177    N  Boxing is a common, well known and well loved ...   \n",
       "1  7-5819215    N  In many of the minority works of modern litera...   \n",
       "2  7-5819167    N  How does Voltaire tackle the question of philo...   \n",
       "3  7-5819168    N  It would be tempting to think of the various E...   \n",
       "4  7-5819169    N  Naturally, the problems of a single Europe wou...   \n",
       "\n",
       "                                               edits  \n",
       "0  {'start': [24, 39, 52, 87, 242, 371, 400, 528,...  \n",
       "1  {'start': [525, 954, 1819, 2154, 2200], 'end':...  \n",
       "2  {'start': [154, 155, 254, 414, 490, 576, 672, ...  \n",
       "3  {'start': [99, 193, 564, 1245, 1321, 1987, 204...  \n",
       "4  {'start': [145, 338, 552, 563, 571, 713, 841, ...  "
      ]
     },
     "execution_count": 19,
     "metadata": {},
     "output_type": "execute_result"
    }
   ],
   "source": [
    "wi_locness.head()"
   ]
  },
  {
   "cell_type": "code",
   "execution_count": 20,
   "metadata": {},
   "outputs": [
    {
     "data": {
      "text/plain": [
       "{'start': array([  24,   39,   52,   87,  242,  371,  400,  528,  589,  713,  869,\n",
       "         992, 1058, 1169, 1209, 1219, 1255, 1308, 1386, 1412, 1513, 1569,\n",
       "        1661, 1731, 1744, 1781, 1792, 1901, 1951, 2038, 2131, 2149, 2247,\n",
       "        2286], dtype=int32),\n",
       " 'end': array([  25,   40,   59,   95,  249,  374,  400,  538,  595,  713,  869,\n",
       "        1001, 1063, 1169, 1209, 1219, 1255, 1315, 1390, 1418, 1517, 1570,\n",
       "        1661, 1737, 1751, 1781, 1799, 1901, 1960, 2044, 2131, 2149, 2248,\n",
       "        2289], dtype=int32),\n",
       " 'text': array(['-', '-', 'in', '. However,', '. There', 'their', ',', 'among',\n",
       "        \"there's\", ' and', ',', 'underground', '. The', ',', ',', ',', ',',\n",
       "        '. There', 'for', 'Changing', 'from', ';', ',', 'later', '. These',\n",
       "        \"'\", 'talent', ',', '. Diseases', '. Even', ',', \"'s\", ';', 'have'],\n",
       "       dtype=object)}"
      ]
     },
     "execution_count": 20,
     "metadata": {},
     "output_type": "execute_result"
    }
   ],
   "source": [
    "wi_locness.loc[0, \"edits\"]"
   ]
  },
  {
   "cell_type": "code",
   "execution_count": 21,
   "metadata": {},
   "outputs": [
    {
     "data": {
      "text/plain": [
       "'Boxing is a common, well known and well loved sport amongst most countries in the world however it is also punishing, dangerous and disliked to the extent that many people want it banned, possibly with good reason.\\nBoxing is a dangerous sport, there are relatively common deaths, tragic injuries and even disease. All professional boxers are at risk from being killed in his next fight. If not killed then more likely paralysed. There have been a number of cases in the last ten years of the top few boxers having tragic losses throughout their ranks. This is just from the elite few, and theres more from those below them.\\nMore deaths would occur through boxing if it were banned. The sport would go underground, there would be no safety measures like gloves, a doctor, paramedics or early stopping of the fight if someone looked unable to continue. With this going on the people taking part will be dangerous, and on the streets. Dangerous dogs who were trained to kill and maim in similar underound dog fights have already proved deadly to innocent people, the new boxers could be even more at risk.\\nOnce boxing is banned and no-one grows up knowing it as acceptable there will be no interest in boxing and hopefully less all round interest in violence making towns and cities much safer places to live in, there will be less fighting outside pubs and clubs and less violent attacks with little or no reason.\\nchange the rules of boxing slightly would much improve the safety risks of the sport and not detract form the entertainment. There are all sorts of proposals, lighter and more cushioning gloves could be worn, ban punches to the head, headguards worn or make fights shorter, as most of the serious injuries occur in the latter rounds, these would all show off the boxers skill and tallent and still be entertaining to watch.\\nEven if a boxer is a success and manages not to be seriously hurt he still faces serious consequences in later life diseases that attack the brains have been known to set in as a direct result of boxing, even Muhamed Ali, who was infamous(?) both for his boxing and his quick-witted intelligence now has Alzheimer disease and can no longer do many everyday acts.\\nMany other sports are more dangerous than boxing, motor sports and even mountaineering has risks that are real. Boxers chose to box, just as racing drivers drive.'"
      ]
     },
     "execution_count": 21,
     "metadata": {},
     "output_type": "execute_result"
    }
   ],
   "source": [
    "wi_locness.loc[0, \"text\"]"
   ]
  },
  {
   "cell_type": "code",
   "execution_count": 22,
   "metadata": {},
   "outputs": [],
   "source": [
    "start = wi_locness.loc[0, \"edits\"][\"start\"]\n",
    "end = wi_locness.loc[0, \"edits\"][\"end\"]\n",
    "replacement_text = wi_locness.loc[0, \"edits\"][\"text\"]"
   ]
  },
  {
   "cell_type": "code",
   "execution_count": 23,
   "metadata": {},
   "outputs": [
    {
     "data": {
      "text/plain": [
       "array(['-', '-', 'in', '. However,', '. There', 'their', ',', 'among',\n",
       "       \"there's\", ' and', ',', 'underground', '. The', ',', ',', ',', ',',\n",
       "       '. There', 'for', 'Changing', 'from', ';', ',', 'later', '. These',\n",
       "       \"'\", 'talent', ',', '. Diseases', '. Even', ',', \"'s\", ';', 'have'],\n",
       "      dtype=object)"
      ]
     },
     "execution_count": 23,
     "metadata": {},
     "output_type": "execute_result"
    }
   ],
   "source": [
    "replacement_text"
   ]
  },
  {
   "cell_type": "code",
   "execution_count": 24,
   "metadata": {},
   "outputs": [
    {
     "data": {
      "text/plain": [
       "'amongst'"
      ]
     },
     "execution_count": 24,
     "metadata": {},
     "output_type": "execute_result"
    }
   ],
   "source": [
    "wi_locness.loc[0, \"text\"][start[2] : end[2]]"
   ]
  },
  {
   "cell_type": "code",
   "execution_count": 25,
   "metadata": {},
   "outputs": [
    {
     "data": {
      "text/plain": [
       "'in'"
      ]
     },
     "execution_count": 25,
     "metadata": {},
     "output_type": "execute_result"
    }
   ],
   "source": [
    "replacement_text[2]"
   ]
  },
  {
   "cell_type": "code",
   "execution_count": 26,
   "metadata": {},
   "outputs": [],
   "source": [
    "def apply_corrections(text: str, corrections: Dict[str, np.ndarray]):\n",
    "    # The corrected text starts as the original text\n",
    "    corrected_text = text\n",
    "    offset = 0\n",
    "\n",
    "    # Iterate over the corrections\n",
    "    for start, end, correction in zip(\n",
    "        corrections[\"start\"], corrections[\"end\"], corrections[\"text\"]\n",
    "    ):\n",
    "        # Adjust start and end with the offset\n",
    "        start += offset\n",
    "        end += offset\n",
    "\n",
    "        # Replace the text if correction exists\n",
    "        if correction:\n",
    "            corrected_text = corrected_text[:start] + correction + corrected_text[end:]\n",
    "            # Update the offset\n",
    "            offset += len(correction) - (end - start)\n",
    "            \n",
    "        else:\n",
    "            corrected_text = corrected_text[:start] + corrected_text[end:]\n",
    "            # Update the offset\n",
    "            offset -= (end - start)\n",
    "\n",
    "    return re.sub(\"\\n+\", \"\\n\", corrected_text)"
   ]
  },
  {
   "cell_type": "code",
   "execution_count": 27,
   "metadata": {},
   "outputs": [],
   "source": [
    "wi_locness[\"corrected_text\"] = wi_locness.apply(lambda row: apply_corrections(row[\"text\"], row[\"edits\"]), axis=1)"
   ]
  },
  {
   "cell_type": "code",
   "execution_count": 28,
   "metadata": {},
   "outputs": [
    {
     "data": {
      "text/plain": [
       "0    Boxing is a common, well-known and well-loved ...\n",
       "1    In many of the minority works of modern litera...\n",
       "2    How does Voltaire tackle the question of philo...\n",
       "3    It would be tempting to think of the various E...\n",
       "4    Naturally, the problems of a single Europe wou...\n",
       "Name: corrected_text, dtype: object"
      ]
     },
     "execution_count": 28,
     "metadata": {},
     "output_type": "execute_result"
    }
   ],
   "source": [
    "wi_locness.corrected_text.head()"
   ]
  },
  {
   "cell_type": "code",
   "execution_count": 29,
   "metadata": {},
   "outputs": [
    {
     "name": "stdout",
     "output_type": "stream",
     "text": [
      "211\n"
     ]
    }
   ],
   "source": [
    "print(len(wi_locness.corrected_text[0].split(\"\\n\")[0]))"
   ]
  },
  {
   "cell_type": "code",
   "execution_count": 30,
   "metadata": {},
   "outputs": [
    {
     "data": {
      "text/plain": [
       "{'start': array([  24,   39,   52,   87,  242,  371,  400,  528,  589,  713,  869,\n",
       "         992, 1058, 1169, 1209, 1219, 1255, 1308, 1386, 1412, 1513, 1569,\n",
       "        1661, 1731, 1744, 1781, 1792, 1901, 1951, 2038, 2131, 2149, 2247,\n",
       "        2286], dtype=int32),\n",
       " 'end': array([  25,   40,   59,   95,  249,  374,  400,  538,  595,  713,  869,\n",
       "        1001, 1063, 1169, 1209, 1219, 1255, 1315, 1390, 1418, 1517, 1570,\n",
       "        1661, 1737, 1751, 1781, 1799, 1901, 1960, 2044, 2131, 2149, 2248,\n",
       "        2289], dtype=int32),\n",
       " 'text': array(['-', '-', 'in', '. However,', '. There', 'their', ',', 'among',\n",
       "        \"there's\", ' and', ',', 'underground', '. The', ',', ',', ',', ',',\n",
       "        '. There', 'for', 'Changing', 'from', ';', ',', 'later', '. These',\n",
       "        \"'\", 'talent', ',', '. Diseases', '. Even', ',', \"'s\", ';', 'have'],\n",
       "       dtype=object)}"
      ]
     },
     "execution_count": 30,
     "metadata": {},
     "output_type": "execute_result"
    }
   ],
   "source": [
    "wi_locness.edits[0]"
   ]
  },
  {
   "cell_type": "code",
   "execution_count": 31,
   "metadata": {},
   "outputs": [
    {
     "data": {
      "text/plain": [
       "3335"
      ]
     },
     "execution_count": 31,
     "metadata": {},
     "output_type": "execute_result"
    }
   ],
   "source": [
    "wi_locness.text.apply(lambda s: len(s)).max()"
   ]
  },
  {
   "cell_type": "code",
   "execution_count": 32,
   "metadata": {},
   "outputs": [
    {
     "data": {
      "text/plain": [
       "2408.82"
      ]
     },
     "execution_count": 32,
     "metadata": {},
     "output_type": "execute_result"
    }
   ],
   "source": [
    "wi_locness.text.apply(lambda s: len(s)).mean()"
   ]
  },
  {
   "cell_type": "code",
   "execution_count": 33,
   "metadata": {},
   "outputs": [
    {
     "data": {
      "text/plain": [
       "2411.62"
      ]
     },
     "execution_count": 33,
     "metadata": {},
     "output_type": "execute_result"
    }
   ],
   "source": [
    "wi_locness.corrected_text.apply(lambda s: len(s)).mean()"
   ]
  },
  {
   "cell_type": "code",
   "execution_count": 34,
   "metadata": {},
   "outputs": [
    {
     "name": "stdout",
     "output_type": "stream",
     "text": [
      "['Boxing is a common, well known and well loved sport amongst most countries in the world however it is also punishing, dangerous and disliked to the extent that many people want it banned, possibly with good reason.', 'Boxing is a dangerous sport, there are relatively common deaths, tragic injuries and even disease. All professional boxers are at risk from being killed in his next fight. If not killed then more likely paralysed. There have been a number of cases in the last ten years of the top few boxers having tragic losses throughout their ranks. This is just from the elite few, and theres more from those below them.', 'More deaths would occur through boxing if it were banned. The sport would go underground, there would be no safety measures like gloves, a doctor, paramedics or early stopping of the fight if someone looked unable to continue. With this going on the people taking part will be dangerous, and on the streets. Dangerous dogs who were trained to kill and maim in similar underound dog fights have already proved deadly to innocent people, the new boxers could be even more at risk.', 'Once boxing is banned and no-one grows up knowing it as acceptable there will be no interest in boxing and hopefully less all round interest in violence making towns and cities much safer places to live in, there will be less fighting outside pubs and clubs and less violent attacks with little or no reason.', 'change the rules of boxing slightly would much improve the safety risks of the sport and not detract form the entertainment. There are all sorts of proposals, lighter and more cushioning gloves could be worn, ban punches to the head, headguards worn or make fights shorter, as most of the serious injuries occur in the latter rounds, these would all show off the boxers skill and tallent and still be entertaining to watch.', 'Even if a boxer is a success and manages not to be seriously hurt he still faces serious consequences in later life diseases that attack the brains have been known to set in as a direct result of boxing, even Muhamed Ali, who was infamous(?) both for his boxing and his quick-witted intelligence now has Alzheimer disease and can no longer do many everyday acts.', 'Many other sports are more dangerous than boxing, motor sports and even mountaineering has risks that are real. Boxers chose to box, just as racing drivers drive.']\n",
      "['Boxing is a common, well-known and well-loved sport in most countries in the world. However, it is also punishing, dangerous and disliked to the extent that many people want it banned, possibly with good reason.', \"Boxing is a dangerous sport. There are relatively common deaths, tragic injuries and even disease. All professional boxers are at risk from being killed in their next fight. If not killed, then more likely paralysed. There have been a number of cases in the last ten years of the top few boxers having tragic losses among their ranks. This is just from the elite few, and there's more from those below them.\", 'More deaths would occur through boxing if it were banned. The sport would go underground, and there would be no safety measures like gloves, a doctor, paramedics or early stopping of the fight if someone looked unable to continue. With this going on, the people taking part will be dangerous, and on the streets. Dangerous dogs who were trained to kill and maim in similar underground dog fights have already proved deadly to innocent people. The new boxers could be even more at risk.', 'Once boxing is banned and no-one grows up knowing it as acceptable, there will be no interest in boxing and, hopefully, less all round interest in violence, making towns and cities much safer places to live in. There will be less fighting outside pubs and clubs and less violent attacks for little or no reason.', \"Changing the rules of boxing slightly would much improve the safety risks of the sport and not detract from the entertainment. There are all sorts of proposals; lighter and more cushioning gloves could be worn, ban punches to the head, headguards worn, or make fights shorter, as most of the serious injuries occur in the later rounds. These would all show off the boxers' skill and talent and still be entertaining to watch.\", \"Even if a boxer is a success and manages not to be seriously hurt, he still faces serious consequences in later life. Diseases that attack the brains have been known to set in as a direct result of boxing. Even Muhamed Ali, who was infamous(?) both for his boxing and his quick-witted intelligence, now has Alzheimer's disease and can no longer do many everyday acts.\", 'Many other sports are more dangerous than boxing; motor sports and even mountaineering have risks that are real. Boxers chose to box, just as racing drivers drive.']\n"
     ]
    }
   ],
   "source": [
    "# split by newlines to match format of other coedit dataset\n",
    "\n",
    "print(wi_locness.text[0].split(\"\\n\"))\n",
    "\n",
    "print(wi_locness.corrected_text[0].split(\"\\n\"))"
   ]
  },
  {
   "cell_type": "code",
   "execution_count": 35,
   "metadata": {},
   "outputs": [
    {
     "data": {
      "text/plain": [
       "['Boxing is a common, well-known and well-loved sport in most countries in the world. However, it is also punishing, dangerous and disliked to the extent that many people want it banned, possibly with good reason.',\n",
       " \"Boxing is a dangerous sport. There are relatively common deaths, tragic injuries and even disease. All professional boxers are at risk from being killed in their next fight. If not killed, then more likely paralysed. There have been a number of cases in the last ten years of the top few boxers having tragic losses among their ranks. This is just from the elite few, and there's more from those below them.\",\n",
       " 'More deaths would occur through boxing if it were banned. The sport would go underground, and there would be no safety measures like gloves, a doctor, paramedics or early stopping of the fight if someone looked unable to continue. With this going on, the people taking part will be dangerous, and on the streets. Dangerous dogs who were trained to kill and maim in similar underground dog fights have already proved deadly to innocent people. The new boxers could be even more at risk.',\n",
       " 'Once boxing is banned and no-one grows up knowing it as acceptable, there will be no interest in boxing and, hopefully, less all round interest in violence, making towns and cities much safer places to live in. There will be less fighting outside pubs and clubs and less violent attacks for little or no reason.',\n",
       " \"Changing the rules of boxing slightly would much improve the safety risks of the sport and not detract from the entertainment. There are all sorts of proposals; lighter and more cushioning gloves could be worn, ban punches to the head, headguards worn, or make fights shorter, as most of the serious injuries occur in the later rounds. These would all show off the boxers' skill and talent and still be entertaining to watch.\",\n",
       " \"Even if a boxer is a success and manages not to be seriously hurt, he still faces serious consequences in later life. Diseases that attack the brains have been known to set in as a direct result of boxing. Even Muhamed Ali, who was infamous(?) both for his boxing and his quick-witted intelligence, now has Alzheimer's disease and can no longer do many everyday acts.\",\n",
       " 'Many other sports are more dangerous than boxing; motor sports and even mountaineering have risks that are real. Boxers chose to box, just as racing drivers drive.']"
      ]
     },
     "execution_count": 35,
     "metadata": {},
     "output_type": "execute_result"
    }
   ],
   "source": [
    "wi_locness.corrected_text[0].split(\"\\n\")"
   ]
  },
  {
   "cell_type": "code",
   "execution_count": 36,
   "metadata": {},
   "outputs": [],
   "source": [
    "alternative_prompts = [\n",
    "    \"Correct the grammatical errors in the following sentence:\",\n",
    "    \"Revise this text for proper grammar:\",\n",
    "    \"Improve the grammatical structure of this sentence:\",\n",
    "    \"Transform the words into grammatically correct English:\",\n",
    "    \"Edit this sentence to eliminate grammatical mistakes:\"\n",
    "]"
   ]
  },
  {
   "cell_type": "code",
   "execution_count": 40,
   "metadata": {},
   "outputs": [],
   "source": [
    "corrected_text = pd.Series(np.concatenate([wi_locness.corrected_text[i].split(\"\\n\")\n",
    "                                           for i in range(wi_locness.shape[0])]))"
   ]
  },
  {
   "cell_type": "code",
   "execution_count": 44,
   "metadata": {},
   "outputs": [
    {
     "data": {
      "text/plain": [
       "0      Boxing is a common, well-known and well-loved ...\n",
       "1      Boxing is a dangerous sport. There are relativ...\n",
       "2      More deaths would occur through boxing if it w...\n",
       "3      Once boxing is banned and no-one grows up know...\n",
       "4      Changing the rules of boxing slightly would mu...\n",
       "                             ...                        \n",
       "269    The V-chip is an electrical device that blocks...\n",
       "270    Some of the anti-violence proposals are as fol...\n",
       "271    Some television shows show violence because it...\n",
       "272    An exhaustive examination of the broadcast net...\n",
       "273    The reason for television violence is to add t...\n",
       "Length: 274, dtype: object"
      ]
     },
     "execution_count": 44,
     "metadata": {},
     "output_type": "execute_result"
    }
   ],
   "source": [
    "corrected_text.map(lambda s: re.sub(r\"\\s+\", \" \", s))"
   ]
  },
  {
   "cell_type": "code",
   "execution_count": 38,
   "metadata": {},
   "outputs": [],
   "source": [
    "random_prompts = np.random.choice(alternative_prompts, size=wi_locness.shape[0], replace=True)"
   ]
  }
 ],
 "metadata": {
  "kernelspec": {
   "display_name": "grammar_ninja",
   "language": "python",
   "name": "python3"
  },
  "language_info": {
   "codemirror_mode": {
    "name": "ipython",
    "version": 3
   },
   "file_extension": ".py",
   "mimetype": "text/x-python",
   "name": "python",
   "nbconvert_exporter": "python",
   "pygments_lexer": "ipython3",
   "version": "3.10.13"
  }
 },
 "nbformat": 4,
 "nbformat_minor": 2
}

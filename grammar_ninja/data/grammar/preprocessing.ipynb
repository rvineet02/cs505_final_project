{
 "cells": [
  {
   "cell_type": "code",
   "execution_count": null,
   "metadata": {},
   "outputs": [
    {
     "ename": "",
     "evalue": "",
     "output_type": "error",
     "traceback": [
      "\u001b[1;31mRunning cells with 'grammar_ninja' requires the ipykernel package.\n",
      "\u001b[1;31mRun the following command to install 'ipykernel' into the Python environment. \n",
      "\u001b[1;31mCommand: 'conda install -n grammar_ninja ipykernel --update-deps --force-reinstall'"
     ]
    }
   ],
   "source": [
    "import pandas as pd\n",
    "from pathlib import Path\n",
    "import re\n",
    "from typing import Dict\n",
    "import numpy as np"
   ]
  },
  {
   "cell_type": "code",
   "execution_count": null,
   "metadata": {},
   "outputs": [
    {
     "ename": "",
     "evalue": "",
     "output_type": "error",
     "traceback": [
      "\u001b[1;31mRunning cells with 'grammar_ninja' requires the ipykernel package.\n",
      "\u001b[1;31mRun the following command to install 'ipykernel' into the Python environment. \n",
      "\u001b[1;31mCommand: 'conda install -n grammar_ninja ipykernel --update-deps --force-reinstall'"
     ]
    }
   ],
   "source": [
    "DATA_DIR = Path(\"/projectnb/cs505ws/projects/grammar_ninja/data/grammar/raw\")"
   ]
  },
  {
   "cell_type": "code",
   "execution_count": null,
   "metadata": {},
   "outputs": [],
   "source": [
    "coedit = pd.read_parquet(DATA_DIR.joinpath(\"coedit\", \"train.parquet\"))"
   ]
  },
  {
   "cell_type": "code",
   "execution_count": null,
   "metadata": {},
   "outputs": [
    {
     "data": {
      "text/html": [
       "<div>\n",
       "<style scoped>\n",
       "    .dataframe tbody tr th:only-of-type {\n",
       "        vertical-align: middle;\n",
       "    }\n",
       "\n",
       "    .dataframe tbody tr th {\n",
       "        vertical-align: top;\n",
       "    }\n",
       "\n",
       "    .dataframe thead th {\n",
       "        text-align: right;\n",
       "    }\n",
       "</style>\n",
       "<table border=\"1\" class=\"dataframe\">\n",
       "  <thead>\n",
       "    <tr style=\"text-align: right;\">\n",
       "      <th></th>\n",
       "      <th>_id</th>\n",
       "      <th>task</th>\n",
       "      <th>src</th>\n",
       "      <th>tgt</th>\n",
       "    </tr>\n",
       "  </thead>\n",
       "  <tbody>\n",
       "    <tr>\n",
       "      <th>0</th>\n",
       "      <td>1</td>\n",
       "      <td>gec</td>\n",
       "      <td>Remove all grammatical errors from this text: ...</td>\n",
       "      <td>For example, countries with a lot of deserts c...</td>\n",
       "    </tr>\n",
       "    <tr>\n",
       "      <th>1</th>\n",
       "      <td>2</td>\n",
       "      <td>gec</td>\n",
       "      <td>Improve the grammaticality: As the number of p...</td>\n",
       "      <td>As the number of people grows, the need for a ...</td>\n",
       "    </tr>\n",
       "    <tr>\n",
       "      <th>2</th>\n",
       "      <td>3</td>\n",
       "      <td>gec</td>\n",
       "      <td>Improve the grammaticality of this sentence: B...</td>\n",
       "      <td>Besides some technological determinists that a...</td>\n",
       "    </tr>\n",
       "    <tr>\n",
       "      <th>3</th>\n",
       "      <td>4</td>\n",
       "      <td>gec</td>\n",
       "      <td>Remove all grammatical errors from this text: ...</td>\n",
       "      <td>Safety is one of the crucial problems that man...</td>\n",
       "    </tr>\n",
       "    <tr>\n",
       "      <th>4</th>\n",
       "      <td>5</td>\n",
       "      <td>gec</td>\n",
       "      <td>Fix grammaticality in this sentence: On one ha...</td>\n",
       "      <td>On the one hand, more and more viruses and hac...</td>\n",
       "    </tr>\n",
       "  </tbody>\n",
       "</table>\n",
       "</div>"
      ],
      "text/plain": [
       "  _id task                                                src  \\\n",
       "0   1  gec  Remove all grammatical errors from this text: ...   \n",
       "1   2  gec  Improve the grammaticality: As the number of p...   \n",
       "2   3  gec  Improve the grammaticality of this sentence: B...   \n",
       "3   4  gec  Remove all grammatical errors from this text: ...   \n",
       "4   5  gec  Fix grammaticality in this sentence: On one ha...   \n",
       "\n",
       "                                                 tgt  \n",
       "0  For example, countries with a lot of deserts c...  \n",
       "1  As the number of people grows, the need for a ...  \n",
       "2  Besides some technological determinists that a...  \n",
       "3  Safety is one of the crucial problems that man...  \n",
       "4  On the one hand, more and more viruses and hac...  "
      ]
     },
     "execution_count": 4,
     "metadata": {},
     "output_type": "execute_result"
    }
   ],
   "source": [
    "coedit.head()"
   ]
  },
  {
   "cell_type": "code",
   "execution_count": null,
   "metadata": {},
   "outputs": [
    {
     "data": {
      "text/plain": [
       "array(['gec', 'neutralize', 'simplification', 'paraphrase', 'coherence',\n",
       "       'clarity'], dtype=object)"
      ]
     },
     "execution_count": 5,
     "metadata": {},
     "output_type": "execute_result"
    }
   ],
   "source": [
    "coedit.task.unique()"
   ]
  },
  {
   "cell_type": "code",
   "execution_count": null,
   "metadata": {},
   "outputs": [
    {
     "data": {
      "text/plain": [
       "task\n",
       "gec               19823\n",
       "paraphrase        15370\n",
       "simplification    11440\n",
       "coherence         10616\n",
       "neutralize        10570\n",
       "clarity            1252\n",
       "Name: count, dtype: int64"
      ]
     },
     "execution_count": 6,
     "metadata": {},
     "output_type": "execute_result"
    }
   ],
   "source": [
    "coedit.task.value_counts()"
   ]
  },
  {
   "cell_type": "code",
   "execution_count": null,
   "metadata": {},
   "outputs": [
    {
     "data": {
      "text/plain": [
       "884"
      ]
     },
     "execution_count": 7,
     "metadata": {},
     "output_type": "execute_result"
    }
   ],
   "source": [
    "coedit.src.apply(lambda s: len(s)).max()"
   ]
  },
  {
   "cell_type": "code",
   "execution_count": null,
   "metadata": {},
   "outputs": [
    {
     "ename": "",
     "evalue": "",
     "output_type": "error",
     "traceback": [
      "\u001b[1;31mRunning cells with 'grammar_ninja' requires the ipykernel package.\n",
      "\u001b[1;31mRun the following command to install 'ipykernel' into the Python environment. \n",
      "\u001b[1;31mCommand: 'conda install -n grammar_ninja ipykernel --update-deps --force-reinstall'"
     ]
    }
   ],
   "source": [
    "coedit.src.apply(lambda s: len(s)).mean()"
   ]
  },
  {
   "cell_type": "code",
   "execution_count": null,
   "metadata": {},
   "outputs": [
    {
     "ename": "",
     "evalue": "",
     "output_type": "error",
     "traceback": [
      "\u001b[1;31mRunning cells with 'grammar_ninja' requires the ipykernel package.\n",
      "\u001b[1;31mRun the following command to install 'ipykernel' into the Python environment. \n",
      "\u001b[1;31mCommand: 'conda install -n grammar_ninja ipykernel --update-deps --force-reinstall'"
     ]
    }
   ],
   "source": [
    "prompts = coedit.src.str.extract(r\"^(.*?):\")"
   ]
  },
  {
   "cell_type": "code",
   "execution_count": null,
   "metadata": {},
   "outputs": [
    {
     "ename": "",
     "evalue": "",
     "output_type": "error",
     "traceback": [
      "\u001b[1;31mRunning cells with 'grammar_ninja' requires the ipykernel package.\n",
      "\u001b[1;31mRun the following command to install 'ipykernel' into the Python environment. \n",
      "\u001b[1;31mCommand: 'conda install -n grammar_ninja ipykernel --update-deps --force-reinstall'"
     ]
    }
   ],
   "source": [
    "prompts.iloc[:, 0].unique()"
   ]
  },
  {
   "cell_type": "code",
   "execution_count": null,
   "metadata": {},
   "outputs": [
    {
     "ename": "",
     "evalue": "",
     "output_type": "error",
     "traceback": [
      "\u001b[1;31mRunning cells with 'grammar_ninja' requires the ipykernel package.\n",
      "\u001b[1;31mRun the following command to install 'ipykernel' into the Python environment. \n",
      "\u001b[1;31mCommand: 'conda install -n grammar_ninja ipykernel --update-deps --force-reinstall'"
     ]
    }
   ],
   "source": [
    "coedit[\"prompts\"] = coedit.src.str.extract(r\"^(.*?):\")"
   ]
  },
  {
   "cell_type": "code",
   "execution_count": null,
   "metadata": {},
   "outputs": [
    {
     "ename": "",
     "evalue": "",
     "output_type": "error",
     "traceback": [
      "\u001b[1;31mRunning cells with 'grammar_ninja' requires the ipykernel package.\n",
      "\u001b[1;31mRun the following command to install 'ipykernel' into the Python environment. \n",
      "\u001b[1;31mCommand: 'conda install -n grammar_ninja ipykernel --update-deps --force-reinstall'"
     ]
    }
   ],
   "source": [
    "coedit[\"input_text\"] = coedit.src.str.extract(r\":(.+)\")"
   ]
  },
  {
   "cell_type": "code",
   "execution_count": null,
   "metadata": {},
   "outputs": [
    {
     "ename": "",
     "evalue": "",
     "output_type": "error",
     "traceback": [
      "\u001b[1;31mRunning cells with 'grammar_ninja' requires the ipykernel package.\n",
      "\u001b[1;31mRun the following command to install 'ipykernel' into the Python environment. \n",
      "\u001b[1;31mCommand: 'conda install -n grammar_ninja ipykernel --update-deps --force-reinstall'"
     ]
    }
   ],
   "source": [
    "coedit.rename({\"tgt\": \"output_text\"}, axis=1)"
   ]
  },
  {
   "cell_type": "code",
   "execution_count": null,
   "metadata": {},
   "outputs": [
    {
     "ename": "",
     "evalue": "",
     "output_type": "error",
     "traceback": [
      "\u001b[1;31mRunning cells with 'grammar_ninja' requires the ipykernel package.\n",
      "\u001b[1;31mRun the following command to install 'ipykernel' into the Python environment. \n",
      "\u001b[1;31mCommand: 'conda install -n grammar_ninja ipykernel --update-deps --force-reinstall'"
     ]
    }
   ],
   "source": [
    "wi_locness = pd.read_parquet(DATA_DIR.joinpath(\"wi_locness\", \"validation.parquet\"))"
   ]
  },
  {
   "cell_type": "code",
   "execution_count": null,
   "metadata": {},
   "outputs": [
    {
     "ename": "",
     "evalue": "",
     "output_type": "error",
     "traceback": [
      "\u001b[1;31mRunning cells with 'grammar_ninja' requires the ipykernel package.\n",
      "\u001b[1;31mRun the following command to install 'ipykernel' into the Python environment. \n",
      "\u001b[1;31mCommand: 'conda install -n grammar_ninja ipykernel --update-deps --force-reinstall'"
     ]
    }
   ],
   "source": [
    "wi_locness.head()"
   ]
  },
  {
   "cell_type": "code",
   "execution_count": null,
   "metadata": {},
   "outputs": [
    {
     "ename": "",
     "evalue": "",
     "output_type": "error",
     "traceback": [
      "\u001b[1;31mRunning cells with 'grammar_ninja' requires the ipykernel package.\n",
      "\u001b[1;31mRun the following command to install 'ipykernel' into the Python environment. \n",
      "\u001b[1;31mCommand: 'conda install -n grammar_ninja ipykernel --update-deps --force-reinstall'"
     ]
    }
   ],
   "source": [
    "wi_locness.loc[0, \"edits\"]"
   ]
  },
  {
   "cell_type": "code",
   "execution_count": null,
   "metadata": {},
   "outputs": [
    {
     "ename": "",
     "evalue": "",
     "output_type": "error",
     "traceback": [
      "\u001b[1;31mRunning cells with 'grammar_ninja' requires the ipykernel package.\n",
      "\u001b[1;31mRun the following command to install 'ipykernel' into the Python environment. \n",
      "\u001b[1;31mCommand: 'conda install -n grammar_ninja ipykernel --update-deps --force-reinstall'"
     ]
    }
   ],
   "source": [
    "wi_locness.loc[0, \"text\"]"
   ]
  },
  {
   "cell_type": "code",
   "execution_count": null,
   "metadata": {},
   "outputs": [
    {
     "ename": "",
     "evalue": "",
     "output_type": "error",
     "traceback": [
      "\u001b[1;31mRunning cells with 'grammar_ninja' requires the ipykernel package.\n",
      "\u001b[1;31mRun the following command to install 'ipykernel' into the Python environment. \n",
      "\u001b[1;31mCommand: 'conda install -n grammar_ninja ipykernel --update-deps --force-reinstall'"
     ]
    }
   ],
   "source": [
    "start = wi_locness.loc[0, \"edits\"][\"start\"]\n",
    "end = wi_locness.loc[0, \"edits\"][\"end\"]\n",
    "replacement_text = wi_locness.loc[0, \"edits\"][\"text\"]"
   ]
  },
  {
   "cell_type": "code",
   "execution_count": null,
   "metadata": {},
   "outputs": [
    {
     "ename": "",
     "evalue": "",
     "output_type": "error",
     "traceback": [
      "\u001b[1;31mRunning cells with 'grammar_ninja' requires the ipykernel package.\n",
      "\u001b[1;31mRun the following command to install 'ipykernel' into the Python environment. \n",
      "\u001b[1;31mCommand: 'conda install -n grammar_ninja ipykernel --update-deps --force-reinstall'"
     ]
    }
   ],
   "source": [
    "replacement_text"
   ]
  },
  {
   "cell_type": "code",
   "execution_count": null,
   "metadata": {},
   "outputs": [
    {
     "ename": "",
     "evalue": "",
     "output_type": "error",
     "traceback": [
      "\u001b[1;31mRunning cells with 'grammar_ninja' requires the ipykernel package.\n",
      "\u001b[1;31mRun the following command to install 'ipykernel' into the Python environment. \n",
      "\u001b[1;31mCommand: 'conda install -n grammar_ninja ipykernel --update-deps --force-reinstall'"
     ]
    }
   ],
   "source": [
    "wi_locness.loc[0, \"text\"][start[2] : end[2]]"
   ]
  },
  {
   "cell_type": "code",
   "execution_count": null,
   "metadata": {},
   "outputs": [
    {
     "ename": "",
     "evalue": "",
     "output_type": "error",
     "traceback": [
      "\u001b[1;31mRunning cells with 'grammar_ninja' requires the ipykernel package.\n",
      "\u001b[1;31mRun the following command to install 'ipykernel' into the Python environment. \n",
      "\u001b[1;31mCommand: 'conda install -n grammar_ninja ipykernel --update-deps --force-reinstall'"
     ]
    }
   ],
   "source": [
    "replacement_text[2]"
   ]
  },
  {
   "cell_type": "code",
   "execution_count": null,
   "metadata": {},
   "outputs": [
    {
     "ename": "",
     "evalue": "",
     "output_type": "error",
     "traceback": [
      "\u001b[1;31mRunning cells with 'grammar_ninja' requires the ipykernel package.\n",
      "\u001b[1;31mRun the following command to install 'ipykernel' into the Python environment. \n",
      "\u001b[1;31mCommand: 'conda install -n grammar_ninja ipykernel --update-deps --force-reinstall'"
     ]
    }
   ],
   "source": [
    "def apply_corrections(text: str, corrections: Dict[str, np.ndarray]):\n",
    "    # The corrected text starts as the original text\n",
    "    corrected_text = text\n",
    "    offset = 0\n",
    "\n",
    "    # Iterate over the corrections\n",
    "    for start, end, correction in zip(\n",
    "        corrections[\"start\"], corrections[\"end\"], corrections[\"text\"]\n",
    "    ):\n",
    "        # Adjust start and end with the offset\n",
    "        start += offset\n",
    "        end += offset\n",
    "\n",
    "        # Replace the text if correction exists\n",
    "        if correction:\n",
    "            corrected_text = corrected_text[:start] + correction + corrected_text[end:]\n",
    "            # Update the offset\n",
    "            offset += len(correction) - (end - start)\n",
    "            \n",
    "        else:\n",
    "            corrected_text = corrected_text[:start] + corrected_text[end:]\n",
    "            # Update the offset\n",
    "            offset -= (end - start)\n",
    "\n",
    "    return re.sub(\"\\n+\", \"\\n\", corrected_text)"
   ]
  },
  {
   "cell_type": "code",
   "execution_count": null,
   "metadata": {},
   "outputs": [
    {
     "ename": "",
     "evalue": "",
     "output_type": "error",
     "traceback": [
      "\u001b[1;31mRunning cells with 'grammar_ninja' requires the ipykernel package.\n",
      "\u001b[1;31mRun the following command to install 'ipykernel' into the Python environment. \n",
      "\u001b[1;31mCommand: 'conda install -n grammar_ninja ipykernel --update-deps --force-reinstall'"
     ]
    }
   ],
   "source": [
    "wi_locness[\"corrected_text\"] = wi_locness.apply(lambda row: apply_corrections(row[\"text\"], row[\"edits\"]), axis=1)"
   ]
  },
  {
   "cell_type": "code",
   "execution_count": null,
   "metadata": {},
   "outputs": [
    {
     "ename": "",
     "evalue": "",
     "output_type": "error",
     "traceback": [
      "\u001b[1;31mRunning cells with 'grammar_ninja' requires the ipykernel package.\n",
      "\u001b[1;31mRun the following command to install 'ipykernel' into the Python environment. \n",
      "\u001b[1;31mCommand: 'conda install -n grammar_ninja ipykernel --update-deps --force-reinstall'"
     ]
    }
   ],
   "source": [
    "wi_locness.corrected_text.head()"
   ]
  },
  {
   "cell_type": "code",
   "execution_count": null,
   "metadata": {},
   "outputs": [
    {
     "ename": "",
     "evalue": "",
     "output_type": "error",
     "traceback": [
      "\u001b[1;31mRunning cells with 'grammar_ninja' requires the ipykernel package.\n",
      "\u001b[1;31mRun the following command to install 'ipykernel' into the Python environment. \n",
      "\u001b[1;31mCommand: 'conda install -n grammar_ninja ipykernel --update-deps --force-reinstall'"
     ]
    }
   ],
   "source": [
    "print(len(wi_locness.corrected_text[0].split(\"\\n\")[0]))"
   ]
  },
  {
   "cell_type": "code",
   "execution_count": null,
   "metadata": {},
   "outputs": [
    {
     "ename": "",
     "evalue": "",
     "output_type": "error",
     "traceback": [
      "\u001b[1;31mRunning cells with 'grammar_ninja' requires the ipykernel package.\n",
      "\u001b[1;31mRun the following command to install 'ipykernel' into the Python environment. \n",
      "\u001b[1;31mCommand: 'conda install -n grammar_ninja ipykernel --update-deps --force-reinstall'"
     ]
    }
   ],
   "source": [
    "wi_locness.edits[0]"
   ]
  },
  {
   "cell_type": "code",
   "execution_count": null,
   "metadata": {},
   "outputs": [
    {
     "ename": "",
     "evalue": "",
     "output_type": "error",
     "traceback": [
      "\u001b[1;31mRunning cells with 'grammar_ninja' requires the ipykernel package.\n",
      "\u001b[1;31mRun the following command to install 'ipykernel' into the Python environment. \n",
      "\u001b[1;31mCommand: 'conda install -n grammar_ninja ipykernel --update-deps --force-reinstall'"
     ]
    }
   ],
   "source": [
    "wi_locness.text.apply(lambda s: len(s)).max()"
   ]
  },
  {
   "cell_type": "code",
   "execution_count": null,
   "metadata": {},
   "outputs": [
    {
     "ename": "",
     "evalue": "",
     "output_type": "error",
     "traceback": [
      "\u001b[1;31mRunning cells with 'grammar_ninja' requires the ipykernel package.\n",
      "\u001b[1;31mRun the following command to install 'ipykernel' into the Python environment. \n",
      "\u001b[1;31mCommand: 'conda install -n grammar_ninja ipykernel --update-deps --force-reinstall'"
     ]
    }
   ],
   "source": [
    "wi_locness.text.apply(lambda s: len(s)).mean()"
   ]
  },
  {
   "cell_type": "code",
   "execution_count": null,
   "metadata": {},
   "outputs": [
    {
     "ename": "",
     "evalue": "",
     "output_type": "error",
     "traceback": [
      "\u001b[1;31mRunning cells with 'grammar_ninja' requires the ipykernel package.\n",
      "\u001b[1;31mRun the following command to install 'ipykernel' into the Python environment. \n",
      "\u001b[1;31mCommand: 'conda install -n grammar_ninja ipykernel --update-deps --force-reinstall'"
     ]
    }
   ],
   "source": [
    "wi_locness.corrected_text.apply(lambda s: len(s)).mean()"
   ]
  },
  {
   "cell_type": "code",
   "execution_count": null,
   "metadata": {},
   "outputs": [
    {
     "ename": "",
     "evalue": "",
     "output_type": "error",
     "traceback": [
      "\u001b[1;31mRunning cells with 'grammar_ninja' requires the ipykernel package.\n",
      "\u001b[1;31mRun the following command to install 'ipykernel' into the Python environment. \n",
      "\u001b[1;31mCommand: 'conda install -n grammar_ninja ipykernel --update-deps --force-reinstall'"
     ]
    }
   ],
   "source": [
    "# split by newlines to match format of other coedit dataset\n",
    "\n",
    "print(wi_locness.text[0].split(\"\\n\"))\n",
    "\n",
    "print(wi_locness.corrected_text[0].split(\"\\n\"))"
   ]
  },
  {
   "cell_type": "code",
   "execution_count": null,
   "metadata": {},
   "outputs": [
    {
     "ename": "",
     "evalue": "",
     "output_type": "error",
     "traceback": [
      "\u001b[1;31mRunning cells with 'grammar_ninja' requires the ipykernel package.\n",
      "\u001b[1;31mRun the following command to install 'ipykernel' into the Python environment. \n",
      "\u001b[1;31mCommand: 'conda install -n grammar_ninja ipykernel --update-deps --force-reinstall'"
     ]
    }
   ],
   "source": [
    "wi_locness.corrected_text[0].split(\"\\n\")"
   ]
  },
  {
   "cell_type": "code",
   "execution_count": null,
   "metadata": {},
   "outputs": [
    {
     "ename": "",
     "evalue": "",
     "output_type": "error",
     "traceback": [
      "\u001b[1;31mRunning cells with 'grammar_ninja' requires the ipykernel package.\n",
      "\u001b[1;31mRun the following command to install 'ipykernel' into the Python environment. \n",
      "\u001b[1;31mCommand: 'conda install -n grammar_ninja ipykernel --update-deps --force-reinstall'"
     ]
    }
   ],
   "source": [
    "alternative_prompts = [\n",
    "    \"Correct the grammatical errors in the following sentence:\",\n",
    "    \"Revise this text for proper grammar:\",\n",
    "    \"Improve the grammatical structure of this sentence:\",\n",
    "    \"Transform the words into grammatically correct English:\",\n",
    "    \"Edit this sentence to eliminate grammatical mistakes:\"\n",
    "]"
   ]
  },
  {
   "cell_type": "code",
   "execution_count": null,
   "metadata": {},
   "outputs": [
    {
     "ename": "",
     "evalue": "",
     "output_type": "error",
     "traceback": [
      "\u001b[1;31mRunning cells with 'grammar_ninja' requires the ipykernel package.\n",
      "\u001b[1;31mRun the following command to install 'ipykernel' into the Python environment. \n",
      "\u001b[1;31mCommand: 'conda install -n grammar_ninja ipykernel --update-deps --force-reinstall'"
     ]
    }
   ],
   "source": [
    "np.concatenate([wi_locness.corrected_text[i].split(\"\\n\") for i in range(wi_locness.shape[0])])"
   ]
  },
  {
   "cell_type": "code",
   "execution_count": null,
   "metadata": {},
   "outputs": [
    {
     "ename": "",
     "evalue": "",
     "output_type": "error",
     "traceback": [
      "\u001b[1;31mRunning cells with 'grammar_ninja' requires the ipykernel package.\n",
      "\u001b[1;31mRun the following command to install 'ipykernel' into the Python environment. \n",
      "\u001b[1;31mCommand: 'conda install -n grammar_ninja ipykernel --update-deps --force-reinstall'"
     ]
    }
   ],
   "source": [
    "random_prompts = np.random.choice(alternative_prompts, size=wi_locness.shape[0], replace=True)"
   ]
  },
  {
   "cell_type": "code",
   "execution_count": null,
   "metadata": {},
   "outputs": [
    {
     "ename": "",
     "evalue": "",
     "output_type": "error",
     "traceback": [
      "\u001b[1;31mRunning cells with 'grammar_ninja' requires the ipykernel package.\n",
      "\u001b[1;31mRun the following command to install 'ipykernel' into the Python environment. \n",
      "\u001b[1;31mCommand: 'conda install -n grammar_ninja ipykernel --update-deps --force-reinstall'"
     ]
    }
   ],
   "source": []
  },
  {
   "cell_type": "code",
   "execution_count": null,
   "metadata": {},
   "outputs": [],
   "source": []
  }
 ],
 "metadata": {
  "kernelspec": {
   "display_name": "grammar_ninja",
   "language": "python",
   "name": "python3"
  },
  "language_info": {
   "codemirror_mode": {
    "name": "ipython",
    "version": 3
   },
   "file_extension": ".py",
   "mimetype": "text/x-python",
   "name": "python",
   "nbconvert_exporter": "python",
   "pygments_lexer": "ipython3",
   "version": "3.10.13"
  }
 },
 "nbformat": 4,
 "nbformat_minor": 2
}
